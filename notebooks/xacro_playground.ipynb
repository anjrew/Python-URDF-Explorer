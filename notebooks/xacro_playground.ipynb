{
 "cells": [
  {
   "cell_type": "code",
   "execution_count": 4,
   "metadata": {},
   "outputs": [],
   "source": [
    "import xacro, os"
   ]
  },
  {
   "cell_type": "code",
   "execution_count": 5,
   "metadata": {},
   "outputs": [],
   "source": [
    "from contextlib import contextmanager\n",
    "\n",
    "\n",
    "@contextmanager\n",
    "def change_working_directory(path: str):\n",
    "    current_dir = os.getcwd()\n",
    "    os.chdir(path)\n",
    "    try:\n",
    "        yield\n",
    "    finally:\n",
    "        os.chdir(current_dir)\n"
   ]
  },
  {
   "cell_type": "code",
   "execution_count": null,
   "metadata": {},
   "outputs": [],
   "source": []
  },
  {
   "cell_type": "code",
   "execution_count": 6,
   "metadata": {},
   "outputs": [],
   "source": [
    "# Usage\n",
    "with change_working_directory('../data'):\n",
    "    # Your code here\n",
    "    xacro_file = \"wheel_model.xacro\"\n",
    "    doc = xacro.parse(open(xacro_file))\n",
    "    xacro.process_doc(doc)\n",
    "    robot_description_config = doc.toxml()\n",
    "    robot_description = {'robot_description': robot_description_config}"
   ]
  },
  {
   "cell_type": "code",
   "execution_count": 7,
   "metadata": {},
   "outputs": [
    {
     "data": {
      "text/plain": [
       "{'robot_description': '<?xml version=\"1.0\" ?><robot name=\"wheel_model\"><!-- Add a base_link (Gazebo requires a root link named base_link) --><link name=\"base_link\"/><!-- Connect the wheel to the base_link --><joint name=\"base_to_wheel\" type=\"fixed\"><parent link=\"base_link\"/><child link=\"wheel\"/><origin rpy=\"0 0 0\" xyz=\"0 0 0\"/></joint><link name=\"wheel\"><visual><geometry><cylinder length=\"1\" radius=\"1\"/></geometry><material name=\"wheel_tire\"/></visual><collision><geometry><cylinder length=\"1\" radius=\"1\"/></geometry></collision><inertial><mass value=\"1\"/><inertia ixx=\"0.3333333333333333\" ixy=\"0\" ixz=\"0\" iyy=\"0.3333333333333333\" iyz=\"0\" izz=\"0.5\"/></inertial></link><!-- Gazebo-specific properties --><gazebo reference=\"wheel\"><material>Gazebo/Black</material></gazebo></robot>'}"
      ]
     },
     "execution_count": 7,
     "metadata": {},
     "output_type": "execute_result"
    }
   ],
   "source": [
    "robot_description"
   ]
  },
  {
   "cell_type": "code",
   "execution_count": null,
   "metadata": {},
   "outputs": [],
   "source": []
  }
 ],
 "metadata": {
  "kernelspec": {
   "display_name": ".venv",
   "language": "python",
   "name": "python3"
  },
  "language_info": {
   "codemirror_mode": {
    "name": "ipython",
    "version": 3
   },
   "file_extension": ".py",
   "mimetype": "text/x-python",
   "name": "python",
   "nbconvert_exporter": "python",
   "pygments_lexer": "ipython3",
   "version": "3.8.10"
  }
 },
 "nbformat": 4,
 "nbformat_minor": 2
}
