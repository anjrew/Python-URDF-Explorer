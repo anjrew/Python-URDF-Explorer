{
 "cells": [
  {
   "cell_type": "code",
   "execution_count": null,
   "metadata": {},
   "outputs": [],
   "source": [
    "import os\n",
    "import sys\n",
    "\n",
    "# Add the root directory for packages\n",
    "notebook_dir = os.getcwd()\n",
    "\n",
    "parent_dir = os.path.dirname(notebook_dir)\n",
    "\n",
    "sys.path.append(parent_dir)\n"
   ]
  },
  {
   "cell_type": "code",
   "execution_count": null,
   "metadata": {},
   "outputs": [],
   "source": [
    "\n",
    "from urdfpy import URDF, Box, Cylinder, Joint, Link, Material, Collision, Visual, Inertial, Geometry\n"
   ]
  },
  {
   "cell_type": "code",
   "execution_count": 17,
   "metadata": {},
   "outputs": [],
   "source": [
    "from typing import Tuple\n",
    "\n",
    "import numpy as np\n",
    "\n",
    "from urdfpy.urdf import JointLimit\n",
    "\n",
    "\n",
    "def create_chassis(length_width_height_m: Tuple[float, float, float] = (0.5, 0.5, 0.5)) -> Link:\n",
    "    geo = Box(length_width_height_m)\n",
    "    inertial_matrix = np.array([\n",
    "    [1.0, 0.0, 0.0],\n",
    "    [0.0, 1.0, 0.0],\n",
    "    [0.0, 0.0, 1.0]\n",
    "])\n",
    "    return Link(\n",
    "        visuals=[Visual(geometry=Geometry(box=geo), material=Material('chassis_color'))],\n",
    "        collisions=[Collision(geometry=Geometry(geo), name='chassis_collision')],\n",
    "        inertial=Inertial(mass=1.0, inertia=inertial_matrix),\n",
    "        name='chassis'\n",
    "    )\n",
    "\n",
    "def create_wheel(\n",
    "    name: str,\n",
    "    radius_m: float = 0.1,\n",
    "    thickness_m: float = 0.1\n",
    ") -> Link:\n",
    "    geo = Cylinder(radius_m, thickness_m)\n",
    "    inertial_matrix = np.array([\n",
    "    [1.0, 0.0, 0.0],\n",
    "    [0.0, 1.0, 0.0],\n",
    "    [0.0, 0.0, 1.0]\n",
    "])\n",
    "    return Link(\n",
    "        visuals=[Visual(Geometry(cylinder=geo), Material('wheel_color'))],\n",
    "        collisions=[Collision(geometry=Geometry(cylinder=geo), name='wheel_collision')],\n",
    "        inertial=Inertial(1.0, inertia=inertial_matrix),\n",
    "        name=name\n",
    "    )\n",
    "\n",
    "\n",
    "\n",
    "\n",
    "chassis = create_chassis(length_width_height_m=(0.5, 0.5, 0.5))\n",
    "\n",
    "left_front_wheel_id = 'left_front_wheel'\n",
    "right_front_wheel_id = 'right_front_wheel'\n",
    "left_rear_wheel_id = 'left_rear_wheel'\n",
    "right_rear_wheel_id = 'right_rear_wheel'\n",
    "left_front_wheel = create_wheel(left_front_wheel_id)\n",
    "right_front_wheel = create_wheel(right_front_wheel_id)\n",
    "left_rear_wheel = create_wheel(left_rear_wheel_id)\n",
    "right_rear_wheel = create_wheel(right_rear_wheel_id)\n",
    "\n",
    "\n",
    "urdf = URDF(\n",
    "    name='four_wheel_robot',\n",
    "    links=[chassis, left_front_wheel, right_front_wheel, left_rear_wheel, right_rear_wheel],\n",
    "    joints=[\n",
    "        Joint('left_front_wheel_joint', 'revolute', parent='chassis', child=left_front_wheel_id,limit=JointLimit(effort=1.0, velocity=1.0)),\n",
    "        Joint('right_front_wheel_joint', 'revolute', parent='chassis', child=right_front_wheel_id,limit=JointLimit(effort=1.0, velocity=1.0)),\n",
    "        Joint('left_rear_wheel_joint', 'revolute', parent='chassis', child=left_rear_wheel_id,limit=JointLimit(effort=1.0, velocity=1.0)),\n",
    "        Joint('right_rear_wheel_joint', 'revolute', parent='chassis', child=right_rear_wheel_id,limit=JointLimit(effort=1.0, velocity=1.0)),\n",
    "    ]\n",
    ")"
   ]
  },
  {
   "cell_type": "code",
   "execution_count": 18,
   "metadata": {},
   "outputs": [],
   "source": [
    "from lxml.etree import Element"
   ]
  },
  {
   "cell_type": "code",
   "execution_count": 19,
   "metadata": {},
   "outputs": [],
   "source": [
    "# urdf._to_xml(parent=Element(\"Tag\") ,path='four_wheel_robot.urdf')\n",
    "urdf.save('four_wheel_robot.urdf')"
   ]
  },
  {
   "cell_type": "code",
   "execution_count": null,
   "metadata": {},
   "outputs": [],
   "source": []
  }
 ],
 "metadata": {
  "kernelspec": {
   "display_name": ".venv",
   "language": "python",
   "name": "python3"
  },
  "language_info": {
   "codemirror_mode": {
    "name": "ipython",
    "version": 3
   },
   "file_extension": ".py",
   "mimetype": "text/x-python",
   "name": "python",
   "nbconvert_exporter": "python",
   "pygments_lexer": "ipython3",
   "version": "3.8.10"
  }
 },
 "nbformat": 4,
 "nbformat_minor": 2
}
