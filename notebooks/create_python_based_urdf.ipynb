{
 "cells": [
  {
   "cell_type": "code",
   "execution_count": 1,
   "metadata": {},
   "outputs": [],
   "source": [
    "import os\n",
    "import sys\n",
    "\n",
    "# Add the root directory for packages\n",
    "notebook_dir = os.getcwd()\n",
    "\n",
    "parent_dir = os.path.dirname(notebook_dir)\n",
    "\n",
    "sys.path.append(parent_dir)\n"
   ]
  },
  {
   "cell_type": "code",
   "execution_count": 2,
   "metadata": {},
   "outputs": [],
   "source": [
    "\n",
    "from urdfpy import URDF, Box, Cylinder, Joint, Link, Material, Collision, Visual, Inertial, Geometry\n"
   ]
  },
  {
   "cell_type": "code",
   "execution_count": 3,
   "metadata": {},
   "outputs": [],
   "source": [
    "from typing import Tuple\n",
    "\n",
    "import numpy as np\n",
    "\n",
    "from urdfpy.urdf import JointLimit\n",
    "from urdfpy.utils import xyz_rpy_to_matrix"
   ]
  },
  {
   "cell_type": "code",
   "execution_count": 4,
   "metadata": {},
   "outputs": [],
   "source": [
    "# Get properties via a yaml file\n",
    "from typing import Any, Dict\n",
    "import yaml\n",
    "\n",
    "def load_yaml_properties(file_path) -> Dict[str, Any]:\n",
    "    with open(file_path, 'r') as file:\n",
    "        properties = yaml.safe_load(file)\n",
    "        return properties"
   ]
  },
  {
   "cell_type": "code",
   "execution_count": 5,
   "metadata": {},
   "outputs": [],
   "source": [
    "MODEL_SCALER=10"
   ]
  },
  {
   "cell_type": "code",
   "execution_count": 6,
   "metadata": {},
   "outputs": [],
   "source": [
    "config_path = os.path.join(parent_dir, 'config', 'config.yaml')"
   ]
  },
  {
   "cell_type": "code",
   "execution_count": 7,
   "metadata": {},
   "outputs": [],
   "source": [
    "properties = load_yaml_properties(config_path)"
   ]
  },
  {
   "cell_type": "code",
   "execution_count": 8,
   "metadata": {},
   "outputs": [],
   "source": [
    "\n",
    "from pydantic import BaseModel, Field\n",
    "from typing import Dict\n",
    "\n",
    "class Angles(BaseModel):\n",
    "    degrees_45: float = Field(..., description=\"45 degrees in radians\")\n",
    "    degrees_90: float = Field(..., description=\"90 degrees in radians\")\n",
    "\n",
    "class Chassis(BaseModel):\n",
    "    length_m: float = Field(..., description=\"Chassis length in meters\")\n",
    "    width_m: float = Field(..., description=\"Chassis width in meters\")\n",
    "    height_m: float = Field(..., description=\"Chassis height in meters\")\n",
    "    mass_kg: float = Field(..., description=\"Chassis mass in kilograms\")\n",
    "    wheelbase: float = Field(..., description=\"Wheelbase in meters\")\n",
    "    wheel_x_offset_from_edge_m: float = Field(..., description=\"Wheel X offset from front and back edge in meters\")\n",
    "\n",
    "class Wheel(BaseModel):\n",
    "    dimeter_m: float = Field(..., description=\"Wheel diameter in meters\")\n",
    "    width_m: float = Field(..., description=\"Wheel width in meters\")\n",
    "    mass_kg: float = Field(..., description=\"Wheel mass in kilograms\")\n",
    "\n",
    "class Tire(BaseModel):\n",
    "    diameter_m: float = Field(..., description=\"Tire diameter in meters\")\n",
    "    depth_m: float = Field(..., description=\"Tire depth in meters\")\n",
    "    width_m: float = Field(..., description=\"Tire width in meters\")\n",
    "\n",
    "class SteeringColumn(BaseModel):\n",
    "    length_m: float = Field(..., description=\"Vertical height of the steering rod in meters\")\n",
    "    diameter_m: float = Field(..., description=\"Diameter of the steering rod in meters\")\n",
    "    mass_kg: float = Field(..., description=\"Mass of the steering column in kilograms\")\n",
    "    max_angle_deg: float = Field(..., description=\"Maximum steering angle in degrees\")\n",
    "    effort_Nm: float = Field(..., description=\"Maximum torque that can be applied to the steering column in Newton-meters\")\n",
    "    rads_per_sec: float = Field(..., description=\"Maximum angular velocity of the steering column in radians per second\")\n",
    "    camber_deg: float = Field(..., description=\"Camber angle in degrees\")\n",
    "\n",
    "class CarGeometry(BaseModel):\n",
    "    rotational_center_offset_m: float = Field(..., description=\"Rotational center offset in meters\")\n",
    "    wheel_z_base_offset_m: float = Field(..., description=\"Wheel Z base offset in meters\")\n",
    "\n",
    "class LidarBase(BaseModel):\n",
    "    height_m: float = Field(..., description=\"Lidar base height in meters\")\n",
    "    width_m: float = Field(..., description=\"Lidar base width in meters\")\n",
    "\n",
    "class LidarScanner(BaseModel):\n",
    "    diameter_m: float = Field(..., description=\"Lidar scanner diameter in meters\")\n",
    "    height_m: float = Field(..., description=\"Lidar scanner height in meters\")\n",
    "\n",
    "class Lidar(BaseModel):\n",
    "    base: LidarBase\n",
    "    scanner: LidarScanner\n",
    "    weight_kg: float = Field(..., description=\"Lidar weight in kilograms\")\n",
    "\n",
    "class LidarMount(BaseModel):\n",
    "    height_m: float = Field(..., description=\"Lidar mount height in meters\")\n",
    "    width_m: float = Field(..., description=\"Lidar mount width in meters\")\n",
    "    length_offset_m: float = Field(..., description=\"Lidar mount length offset in meters\")\n",
    "    mass_kg: float = Field(..., description=\"Lidar mount mass in kilograms\")\n",
    "\n",
    "class Mounts(BaseModel):\n",
    "    lidar: LidarMount\n",
    "\n",
    "class AxleProperties(BaseModel):\n",
    "    length_m: float = Field(..., description=\"Length of the axle in meters\")\n",
    "    diameter_m: float = Field(..., description=\"Diameter of the axle in meters\")\n",
    "    mass_kg: float = Field(..., description=\"Mass of the axle in kilograms\")\n",
    "    wheel_inset_m: float = Field(..., description=\"For far the wheel is inset from the edge of the axle in meters\")\n",
    "    \n",
    "class Boticar(BaseModel):\n",
    "    chassis: Chassis\n",
    "    wheel: Wheel\n",
    "    axle: AxleProperties\n",
    "    steering_column: SteeringColumn\n",
    "    tire: Tire\n",
    "    geometry: CarGeometry\n",
    "    lidar: Lidar\n",
    "    mounts: Mounts\n"
   ]
  },
  {
   "cell_type": "code",
   "execution_count": 9,
   "metadata": {},
   "outputs": [],
   "source": [
    "robot_properties = Boticar.model_validate(properties[\"boticar\"])"
   ]
  },
  {
   "cell_type": "code",
   "execution_count": 10,
   "metadata": {},
   "outputs": [],
   "source": [
    "class ColorsRgba:\n",
    "    BLACK = (0, 0, 0, 1)\n",
    "    WHITE = (1, 1, 1, 1)\n",
    "    RED = (1, 0, 0, 1)\n",
    "    GREEN = (0, 1, 0, 1)\n",
    "    BLUE = (0, 0, 1, 1)\n",
    "    YELLOW = (1, 1, 0, 1)\n",
    "    CYAN = (0, 1, 1, 1)\n",
    "    MAGENTA = (1, 0, 1, 1)\n",
    "    GREY = (0.5, 0.5, 0.5, 1)  # Medium grey\n",
    "    LIGHT_GREY = (0.75, 0.75, 0.75, 1)\n",
    "    DARK_GREY = (0.25, 0.25, 0.25, 1)\n",
    "    PINK = (1, 0.75, 0.8, 1)"
   ]
  },
  {
   "cell_type": "code",
   "execution_count": 11,
   "metadata": {},
   "outputs": [],
   "source": [
    "\n",
    "from enum import Enum\n",
    "\n",
    "\n",
    "class JointType(str, Enum):\n",
    "    \"\"\"\n",
    "    Enum representing the types of joints used in robotics.\n",
    "    \"\"\"\n",
    "\n",
    "    FIXED = \"fixed\"\n",
    "    \"\"\"\n",
    "    A fixed joint has no degrees of freedom. It rigidly attaches two links together.\n",
    "    Use this for parts that do not move relative to each other.\n",
    "    \"\"\"\n",
    "\n",
    "    REVOLUTE = \"revolute\"\n",
    "    \"\"\"\n",
    "    A revolute joint rotates around a single axis and has a limited range of motion.\n",
    "    It is typically used for hinged joints like elbows or steering mechanisms.\n",
    "    \"\"\"\n",
    "\n",
    "    CONTINUOUS = \"continuous\"\n",
    "    \"\"\"\n",
    "    Similar to a revolute joint, but with no limits on its range of motion.\n",
    "    It can rotate continuously around the axis. Ideal for wheels or continuous rotations.\n",
    "    \"\"\"\n",
    "\n",
    "    PRISMATIC = \"prismatic\"\n",
    "    \"\"\"\n",
    "    A prismatic joint allows for linear motion along a single axis.\n",
    "    It is used for sliding or extending mechanisms, like a piston or linear actuator.\n",
    "    \"\"\"\n",
    "\n",
    "    FLOATING = \"floating\"\n",
    "    \"\"\"\n",
    "    A floating joint allows motion in all 6 degrees of freedom (3 translational, 3 rotational).\n",
    "    It is often used to represent the base link of a free-floating robot.\n",
    "    \"\"\"\n",
    "\n",
    "    PLANAR = \"planar\"\n",
    "    \"\"\"\n",
    "    A planar joint allows motion in a plane perpendicular to the axis.\n",
    "    It has 3 degrees of freedom: two translational and one rotational.\n",
    "    \"\"\"\n",
    "\n",
    "    SPHERICAL = \"spherical\"\n",
    "    \"\"\"\n",
    "    A spherical joint, also known as a ball joint, allows rotation around three axes.\n",
    "    It has 3 rotational degrees of freedom but no translation.\n",
    "    \"\"\""
   ]
  },
  {
   "cell_type": "code",
   "execution_count": 12,
   "metadata": {},
   "outputs": [
    {
     "ename": "SyntaxError",
     "evalue": "invalid syntax (2715128942.py, line 17)",
     "output_type": "error",
     "traceback": [
      "\u001b[0;36m  Cell \u001b[0;32mIn[12], line 17\u001b[0;36m\u001b[0m\n\u001b[0;31m    for collision in link.collisions:\u001b[0m\n\u001b[0m    ^\u001b[0m\n\u001b[0;31mSyntaxError\u001b[0m\u001b[0;31m:\u001b[0m invalid syntax\n"
     ]
    }
   ],
   "source": [
    "from urdfpy.urdf import Sphere\n",
    "\n",
    "def scale_inertia(inertia: np.ndarray, scale_factor: float) -> np.ndarray:\n",
    "    \"\"\"\n",
    "    Scale the 3x3 inertia matrix.\n",
    "    \n",
    "    :param inertia: 3x3 inertia matrix\n",
    "    :param scale_factor: The factor by which to scale the model\n",
    "    :return: Scaled 3x3 inertia matrix\n",
    "    \"\"\"\n",
    "    # Inertia scales with the fifth power of linear dimensions\n",
    "    return inertia * (scale_factor ** 5)\n",
    "\n",
    "def scale_urdf_model(urdf_model: URDF, scale_factor: float) -> URDF:\n",
    "    \"\"\"\n",
    "    Scale an entire URDF model by a given factor.\n",
    "    \n",
    "    :param urdf_model: The original URDF model\n",
    "    :param scale_factor: The factor by which to scale the model\n",
    "    :return: A new, scaled URDF model\n",
    "    \"\"\"\n",
    "    \n",
    "    links=[]\n",
    "    for link in urdf_model.links:\n",
    "        visuals = []\n",
    "        collisions = []\n",
    "        inertial = None        \n",
    "        # Scale visuals\n",
    "        for visual in link.visuals:\n",
    "            scaled_visual = Visual(\n",
    "                geometry=scale_geometry(visual.geometry, scale_factor),\n",
    "                material=visual.material,\n",
    "                origin=visual.origin * scale_factor\n",
    "            )\n",
    "            visuals.append(scaled_visual)\n",
    "        \n",
    "        # Scale collisions (if present)\n",
    "        for collision in link.collisions:\n",
    "            scaled_collision = Collision(\n",
    "                name=collision.name,\n",
    "                geometry=scale_geometry(collision.geometry, scale_factor),\n",
    "                origin=visual.origin * scale_factor\n",
    "            )\n",
    "            collisions.append(scaled_collision)\n",
    "        \n",
    "        # Scale inertial properties\n",
    "        if link.inertial:\n",
    "            scaled_inertial = Inertial(\n",
    "                mass=link.inertial.mass,\n",
    "                origin=visual.origin * scale_factor,\n",
    "                inertia=scale_inertia(link.inertial.inertia, scale_factor)\n",
    "            )\n",
    "            inertial = scaled_inertial\n",
    "        \n",
    "        links.append(\n",
    "            Link(name=link.name, visuals=visuals, collisions=collisions, inertial=inertial)\n",
    "        )\n",
    "    \n",
    "    # Scale joints\n",
    "    joints = []\n",
    "    for joint in urdf_model.joints:\n",
    "        scaled_joint = Joint(\n",
    "            name=joint.name,\n",
    "            joint_type=joint.joint_type,\n",
    "            parent=joint.parent,\n",
    "            child=joint.child,\n",
    "            axis=joint.axis,\n",
    "            origin=joint.origin * scale_factor,\n",
    "            limit=joint.limit,\n",
    "            dynamics=joint.dynamics\n",
    "        )\n",
    "        joints.append(scaled_joint)\n",
    "    return URDF(name=f\"{urdf_model.name}_scaled\", joints=joints, links=links)\n",
    "\n",
    "def scale_geometry(geometry: Geometry, scale_factor: float) -> Geometry:\n",
    "    if isinstance(geometry.box, Box):\n",
    "        geometry.box = Box(size=np.array(geometry.box) * scale_factor)\n",
    "    elif isinstance(geometry.cylinder, Cylinder):\n",
    "        geometry.cylinder = Cylinder(radius=geometry.cylinder.radius * scale_factor, length=geometry.cylinder.length * scale_factor)\n",
    "    elif isinstance(geometry.sphere, Sphere):\n",
    "        geometry.cylinder = Sphere(radius=geometry.sphere.radius * scale_factor)        \n",
    "    return geometry\n",
    "\n"
   ]
  },
  {
   "cell_type": "code",
   "execution_count": null,
   "metadata": {},
   "outputs": [],
   "source": [
    "\n",
    "class ShapeInertias:\n",
    "\n",
    "    @staticmethod\n",
    "    def get_uniform_box_inertia(mass: float, length_width_height_m: Tuple[float, float, float]) -> np.ndarray:\n",
    "        \"\"\"\n",
    "        Compute the inertia of a uniform box\n",
    "        :param mass: mass of the box\n",
    "        :param size: size of the box (x, y, z)\n",
    "        :return: mass and inertia\n",
    "        \"\"\"\n",
    "        a, b, c = length_width_height_m\n",
    "        return np.array([\n",
    "            [1/12 * mass * (b**2 + c**2), 0, 0],\n",
    "            [0, 1/12 * mass * (a**2 + c**2), 0],\n",
    "            [0, 0, 1/12 * mass * (a**2 + b**2)]\n",
    "        ])\n",
    "        \n",
    "    @staticmethod\n",
    "    def get_uniform_cylinder_inertia(mass: float, radius: float, height: float) -> np.ndarray:\n",
    "        \"\"\"\n",
    "        Compute the inertia of a uniform cylinder\n",
    "        :param mass: mass of the cylinder\n",
    "        :param radius: radius of the cylinder\n",
    "        :param height: height of the cylinder\n",
    "        :return: mass and inertia\n",
    "        \"\"\"\n",
    "        # Moment of inertia for a solid cylinder\n",
    "        Ix_Iy = (1/12) * mass * (3 * radius**2 + height**2)  # about diameter\n",
    "        Iz = (1/2) * mass * radius**2  # about central axis\n",
    "        \n",
    "        return np.array([\n",
    "            [Ix_Iy, 0.0, 0.0],\n",
    "            [0.0, Ix_Iy, 0.0],\n",
    "            [0.0, 0.0, Iz]\n",
    "        ])\n"
   ]
  },
  {
   "cell_type": "code",
   "execution_count": null,
   "metadata": {},
   "outputs": [],
   "source": [
    "# IDS\n",
    "\n",
    "CHASSIS_ID = 'chassis'\n"
   ]
  },
  {
   "cell_type": "code",
   "execution_count": null,
   "metadata": {},
   "outputs": [],
   "source": [
    "\n",
    "def create_chassis_link(props: Chassis) -> Link:\n",
    "    length_width_height_m = (props.length_m, props.width_m, props.height_m)\n",
    "    geo = Geometry(box=Box(length_width_height_m))\n",
    "    uniform_cuboid_inertia = ShapeInertias.get_uniform_box_inertia(props.mass_kg, length_width_height_m)\n",
    "\n",
    "    return Link(\n",
    "        visuals=[Visual(\n",
    "            geometry=geo,\n",
    "            material=Material('chassis_color', color=ColorsRgba.BLACK)\n",
    "        )],\n",
    "        collisions=[Collision(\n",
    "            geometry=Geometry(box=Box(size=length_width_height_m)),\n",
    "            name='chassis_collision'\n",
    "        )],\n",
    "        inertial=Inertial(mass=props.mass_kg, inertia=uniform_cuboid_inertia),\n",
    "        name=CHASSIS_ID\n",
    "    )\n",
    "\n",
    "def create_wheel_link(\n",
    "    name: str,\n",
    "    props: Wheel\n",
    ") -> Link:\n",
    "    radius_m = props.dimeter_m / 2\n",
    "    geo = Cylinder(radius_m, props.width_m)\n",
    "    inertial_matrix =  ShapeInertias.get_uniform_cylinder_inertia(props.mass_kg, radius_m, props.width_m)\n",
    "    return Link(\n",
    "        visuals=[Visual(Geometry(cylinder=geo), Material('wheel_color'))],\n",
    "        collisions=[Collision(geometry=Geometry(cylinder=geo), name='wheel_collision')],\n",
    "        inertial=Inertial(props.mass_kg, inertia=inertial_matrix),\n",
    "        name=name\n",
    "    )\n",
    "    \n",
    "def create_axle_link(position_id: str, axle: AxleProperties) -> Link:\n",
    "    # Create a simple cylindrical link for the axle\n",
    "    axle_radius_m = axle.diameter_m / 2\n",
    "    \n",
    "    geo = create_uniform_cylinder_geometry(axle.length_m, axle_radius_m)\n",
    "    return Link(\n",
    "        name=f\"{position_id}_axle\",\n",
    "        visuals=[Visual(\n",
    "            geometry=geo,\n",
    "            material=Material('axle_color', color=ColorsRgba.GREY)\n",
    "        )],\n",
    "        collisions=[Collision(\n",
    "            geometry=geo,\n",
    "            name=f\"{position_id}_axle_collision\"\n",
    "        )],\n",
    "        inertial=Inertial(\n",
    "            mass=robot_properties.axle.mass_kg,\n",
    "            inertia=ShapeInertias.get_uniform_cylinder_inertia(\n",
    "                axle.mass_kg,\n",
    "                axle_radius_m,\n",
    "                axle.length_m\n",
    "            )\n",
    "        )\n",
    "    )\n",
    "\n",
    "def create_uniform_cylinder_geometry(length_m: float, radius_m: float) -> Geometry:\n",
    "    return Geometry(cylinder=Cylinder(radius=radius_m, length=length_m))\n",
    "\n",
    "def create_steering_column_link(column_name: str, properties: SteeringColumn) -> Link:\n",
    "   \n",
    "    radius_m = properties.diameter_m / 2\n",
    "    \n",
    "    geo = create_uniform_cylinder_geometry(properties.length_m, radius_m)\n",
    "    column_name = column_name + \"_steering_column\"\n",
    "    return Link(\n",
    "        name=column_name,\n",
    "        visuals=[Visual(\n",
    "            geometry=geo,\n",
    "            material=Material('column_color', color=ColorsRgba.GREY)\n",
    "        )],\n",
    "        collisions=[Collision(\n",
    "            geometry=geo,\n",
    "            name=f\"{column_name}_collision\"\n",
    "        )],\n",
    "        inertial=Inertial(\n",
    "            mass=robot_properties.axle.mass_kg,\n",
    "            inertia=ShapeInertias.get_uniform_cylinder_inertia(\n",
    "                properties.mass_kg,\n",
    "                radius_m,\n",
    "                properties.length_m\n",
    "            )\n",
    "        )\n",
    "    )"
   ]
  },
  {
   "cell_type": "code",
   "execution_count": null,
   "metadata": {},
   "outputs": [],
   "source": [
    "\n",
    "chassis = create_chassis_link(robot_properties.chassis)"
   ]
  },
  {
   "cell_type": "code",
   "execution_count": null,
   "metadata": {},
   "outputs": [],
   "source": [
    "\n",
    "from enum import Enum\n",
    "from typing import Generic, TypeVar\n",
    "from pydantic.generics import GenericModel\n",
    "\n",
    "T = TypeVar('T')\n",
    "\n",
    "class WheelPosition(Enum):\n",
    "    LEFT_FRONT = \"left_front\"\n",
    "    RIGHT_FRONT = \"right_front\"\n",
    "    LEFT_REAR = \"left_rear\"\n",
    "    RIGHT_REAR = \"right_rear\"\n",
    "    \n",
    "\n",
    "class WheelDirectionsDetails(GenericModel, Generic[T]):\n",
    "    left: T\n",
    "    right: T\n",
    "\n",
    "\n",
    "class WheelDetails(GenericModel, Generic[T]):\n",
    "    front: WheelDirectionsDetails[T]\n",
    "    rear: WheelDirectionsDetails[T]"
   ]
  },
  {
   "cell_type": "code",
   "execution_count": null,
   "metadata": {},
   "outputs": [],
   "source": [
    "wheel_ids = [WheelPosition.LEFT_FRONT, WheelPosition.RIGHT_FRONT, WheelPosition.LEFT_REAR, WheelPosition.RIGHT_REAR]\n"
   ]
  },
  {
   "cell_type": "code",
   "execution_count": null,
   "metadata": {},
   "outputs": [],
   "source": [
    "wheel_links = WheelDetails(\n",
    "    front=WheelDirectionsDetails(\n",
    "        left=create_wheel_link(WheelPosition.LEFT_FRONT.name, robot_properties.wheel),\n",
    "        right=create_wheel_link(WheelPosition.RIGHT_FRONT.name, robot_properties.wheel)\n",
    "    ),\n",
    "    rear=WheelDirectionsDetails(\n",
    "        left=create_wheel_link(WheelPosition.LEFT_REAR.name, robot_properties.wheel),\n",
    "        right=create_wheel_link(WheelPosition.RIGHT_REAR.name, robot_properties.wheel)\n",
    "    )\n",
    ")"
   ]
  },
  {
   "cell_type": "code",
   "execution_count": null,
   "metadata": {},
   "outputs": [],
   "source": [
    "axle_links = WheelDetails(\n",
    "    front=WheelDirectionsDetails(\n",
    "        left=create_axle_link(WheelPosition.LEFT_FRONT.name, robot_properties.axle),\n",
    "        right=create_axle_link(WheelPosition.RIGHT_FRONT.name, robot_properties.axle)\n",
    "    ),\n",
    "    rear=WheelDirectionsDetails(\n",
    "        left=create_axle_link(WheelPosition.LEFT_REAR.name, robot_properties.axle),\n",
    "        right=create_axle_link(WheelPosition.RIGHT_REAR.name, robot_properties.axle)\n",
    "    )\n",
    ")"
   ]
  },
  {
   "cell_type": "code",
   "execution_count": null,
   "metadata": {},
   "outputs": [],
   "source": [
    "front_steering_columns = WheelDirectionsDetails(\n",
    "    left=create_steering_column_link(WheelPosition.LEFT_FRONT.name, robot_properties.steering_column),\n",
    "    right=create_steering_column_link(WheelPosition.RIGHT_FRONT.name, robot_properties.steering_column)\n",
    ")\n",
    "    "
   ]
  },
  {
   "cell_type": "code",
   "execution_count": null,
   "metadata": {},
   "outputs": [],
   "source": [
    "# Try joining one wheel to one axle\n",
    "def create_wheel_axle_joint(wheel_id: str, axle_id: str) -> Joint:\n",
    "    difference_between_wheel_and_axle = robot_properties.axle.length_m - robot_properties.wheel.width_m\n",
    "    center_position_on_axle = difference_between_wheel_and_axle / 2 - robot_properties.axle.wheel_inset_m\n",
    "    return Joint(\n",
    "        name=f\"{wheel_id}_to_{axle_id}_joint\",\n",
    "        joint_type='continuous',\n",
    "        parent=axle_id,\n",
    "        child=wheel_id,\n",
    "        axis=[0, 0, 1], # Rotate around the z-axis\n",
    "        origin=xyz_rpy_to_matrix([0, 0, center_position_on_axle, 0, 0, 0])\n",
    "    )"
   ]
  },
  {
   "cell_type": "code",
   "execution_count": null,
   "metadata": {},
   "outputs": [],
   "source": [
    "left_front_wheel_joint = create_wheel_axle_joint(wheel_links.front.left.name, axle_links.front.left.name)"
   ]
  },
  {
   "cell_type": "code",
   "execution_count": null,
   "metadata": {},
   "outputs": [],
   "source": [
    "wheel_axle_test_id = 'wheel_axle_test'\n",
    "wheel_axel_test_urdf = URDF(\n",
    "    name=wheel_axle_test_id,\n",
    "    links=[wheel_links.front.left, axle_links.front.left],\n",
    "    joints=[left_front_wheel_joint]\n",
    ")"
   ]
  },
  {
   "cell_type": "code",
   "execution_count": null,
   "metadata": {},
   "outputs": [],
   "source": [
    "# urdf.show()\n",
    "# wheel_axel_test_urdf.animate(cfg_trajectory={\n",
    "#     left_front_wheel_joint.name : [-np.pi / 4, np.pi / 4],\n",
    "\n",
    "# })"
   ]
  },
  {
   "cell_type": "code",
   "execution_count": null,
   "metadata": {},
   "outputs": [],
   "source": [
    "import shutil\n",
    "import subprocess\n",
    "\n",
    "def render_urdf(urdf: URDF):\n",
    "    output_file_path = f'{urdf.name}.urdf'\n",
    "    urdf.save(output_file_path)\n",
    "    BINARY_NAME = \"urdf-viz\"\n",
    "    BINARY_PATH = shutil.which(BINARY_NAME)\n",
    "    def run_binary(file_path: str):\n",
    "        process = subprocess.Popen([BINARY_PATH, file_path])\n",
    "\n",
    "    run_binary(output_file_path)"
   ]
  },
  {
   "cell_type": "code",
   "execution_count": null,
   "metadata": {},
   "outputs": [],
   "source": [
    "# render_urdf(wheel_axel_test_urdf)"
   ]
  },
  {
   "cell_type": "code",
   "execution_count": null,
   "metadata": {},
   "outputs": [],
   "source": [
    "# Try joining one wheel to one axle\n",
    "import math\n",
    "\n",
    "\n",
    "def create_axle_column_joint(axle_id: str, column_id: str, steering_column: SteeringColumn,  axle: AxleProperties) -> Joint:\n",
    "    print(\"axle_id\", axle_id, \"column_id\", column_id)\n",
    "    return Joint(\n",
    "        name=f\"{axle_id}_to_{column_id}_joint\",\n",
    "        joint_type=JointType.FIXED.value,\n",
    "        parent=column_id,\n",
    "        child=axle_id,\n",
    "        axis=[0, 1, 0], # Rotate around the z-axis\n",
    "        origin=xyz_rpy_to_matrix([axle.length_m/2, 0, 0, 0, np.pi/2, 0,])\n",
    "    )"
   ]
  },
  {
   "cell_type": "code",
   "execution_count": null,
   "metadata": {},
   "outputs": [],
   "source": [
    "left_front_axle_column_joint = create_axle_column_joint(axle_links.front.left.name, front_steering_columns.left.name, robot_properties.steering_column, robot_properties.axle)"
   ]
  },
  {
   "cell_type": "code",
   "execution_count": null,
   "metadata": {},
   "outputs": [],
   "source": [
    "font_left_axle_link = axle_links.front.left\n",
    "font_left_steering_link = front_steering_columns.left"
   ]
  },
  {
   "cell_type": "code",
   "execution_count": null,
   "metadata": {},
   "outputs": [],
   "source": [
    "vars(font_left_axle_link)"
   ]
  },
  {
   "cell_type": "code",
   "execution_count": null,
   "metadata": {},
   "outputs": [],
   "source": [
    "# render_urdf(\n",
    "#     scale_urdf_model(URDF(\n",
    "#         name=\"Axle column test\",\n",
    "#         links=[font_left_axle_link, font_left_steering_link],\n",
    "#         joints=[left_front_axle_column_joint]\n",
    "#     ) , 10\n",
    "#     )\n",
    "# )"
   ]
  },
  {
   "cell_type": "code",
   "execution_count": null,
   "metadata": {},
   "outputs": [],
   "source": [
    "\n",
    "urdf = URDF(\n",
    "        name=\"Axle column test\",\n",
    "        links=[font_left_axle_link, font_left_steering_link],\n",
    "        joints=[left_front_axle_column_joint]\n",
    "    )"
   ]
  },
  {
   "cell_type": "code",
   "execution_count": null,
   "metadata": {},
   "outputs": [],
   "source": [
    "# urdf.show()\n",
    "# urdf.animate(cfg_trajectory={\n",
    "#     left_front_axle_column_joint.name : [-np.pi / 4, np.pi / 4],\n",
    "\n",
    "# })\n",
    "# render_urdf(\n",
    "#     urdf\n",
    "# )"
   ]
  },
  {
   "cell_type": "code",
   "execution_count": null,
   "metadata": {},
   "outputs": [],
   "source": [
    "urdf = URDF(\n",
    "        name=\"Steering assembly test\",\n",
    "        links=[font_left_axle_link, font_left_steering_link, wheel_links.front.left],\n",
    "        joints=[left_front_axle_column_joint, left_front_wheel_joint]\n",
    "    )"
   ]
  },
  {
   "cell_type": "code",
   "execution_count": null,
   "metadata": {},
   "outputs": [],
   "source": [
    "# urdf.show()\n",
    "urdf.animate(cfg_trajectory={\n",
    "    left_front_wheel_joint.name : [-np.pi / 4, np.pi / 4],\n",
    "\n",
    "})"
   ]
  },
  {
   "cell_type": "code",
   "execution_count": null,
   "metadata": {},
   "outputs": [],
   "source": [
    "# Try joining one wheel to one axle\n",
    "import math\n",
    "\n",
    "\n",
    "def create_steering_column_chassis_joint(chassis_id: str, column_id: str, steering_column: SteeringColumn, xyz_mount: Tuple[float, float, float]) -> Joint:\n",
    "    return Joint(\n",
    "        name=f\"{chassis_id}_to_{column_id}_joint\",\n",
    "        joint_type=JointType.REVOLUTE.value,\n",
    "        parent=chassis_id,\n",
    "        child=column_id,\n",
    "        limit=JointLimit(\n",
    "            lower=-math.radians(steering_column.max_angle_deg),\n",
    "            upper=math.radians(steering_column.max_angle_deg),\n",
    "            effort=steering_column.effort_Nm,\n",
    "            velocity=steering_column.rads_per_sec\n",
    "        ),\n",
    "        axis=[0, 1, 0], # Rotate around the z-axis\n",
    "        origin=xyz_rpy_to_matrix([axle.length_m/2, 0, 0, 0, np.pi/2, 0,])\n",
    "    )"
   ]
  },
  {
   "cell_type": "code",
   "execution_count": null,
   "metadata": {},
   "outputs": [],
   "source": [
    "# You can create a similar joint for the right front wheel\n",
    "front_right_assembly_xyz_mount = (\n",
    "    robot_properties.chassis.wheelbase / 2,\n",
    "    -robot_properties.chassis.wheel_x_offset_from_edge_m,  # Note the negative y value\n",
    "    robot_properties.chassis.wheel_z_base_offset_m\n",
    ")\n",
    "\n",
    "left_front_column_chassis_joint = create_steering_column_chassis_joint(chassis.name,  front_steering_columns.left.name, robot_properties.steering_column,)"
   ]
  },
  {
   "cell_type": "code",
   "execution_count": null,
   "metadata": {},
   "outputs": [],
   "source": []
  },
  {
   "cell_type": "code",
   "execution_count": null,
   "metadata": {},
   "outputs": [],
   "source": [
    "\n",
    "OUTPUT_FILE_PATH = f'{wheel_axle_test_id}.urdf'\n",
    "wheel_axel_test_urdf.save(OUTPUT_FILE_PATH)"
   ]
  },
  {
   "cell_type": "code",
   "execution_count": null,
   "metadata": {},
   "outputs": [],
   "source": [
    "front_steering_columns =  WheelDirectionsDetails(\n",
    "    left=create_steering_column_link(WheelPosition.LEFT_FRONT.name, robot_properties.steering_column),\n",
    "    right=create_steering_column_link(WheelPosition.RIGHT_FRONT.name, robot_properties.steering_column)\n",
    ")"
   ]
  },
  {
   "cell_type": "code",
   "execution_count": null,
   "metadata": {},
   "outputs": [],
   "source": [
    "wheel_axel_test_urdf = URDF(\n",
    "    name='four_wheel_robot',\n",
    "    links=[chassis, wheels[WHEELS_LEFT_FRONT_ID], wheels[WHEEL_RIGHT_FRONT_ID], wheels[WHEEL_LEFT_REAR_ID], wheels[WHEEL_RIGHT_REAR_ID]],\n",
    "    joints=[\n",
    "        Joint(\n",
    "            name='left_front_wheel_joint', \n",
    "            joint_type='revolute', \n",
    "            parent=CHASSIS_ID, \n",
    "            child=WHEELS_LEFT_FRONT_ID,\n",
    "            limit=JointLimit(effort=1.0, velocity=1.0), \n",
    "            origin=xyz_rpy_to_matrix([0.25, 0.25, 0.0, 0, 0, 0])\n",
    "        ),\n",
    "        Joint(\n",
    "            name='right_front_wheel_joint', \n",
    "            joint_type='revolute', \n",
    "            parent=CHASSIS_ID, \n",
    "            child=WHEEL_RIGHT_FRONT_ID,\n",
    "            limit=JointLimit(effort=1.0, velocity=1.0),\n",
    "            origin=xyz_rpy_to_matrix([1, 0.25, 0.0, 0, 0, 0])\n",
    "        ),\n",
    "        Joint(name='left_rear_wheel_joint', joint_type='revolute', parent=CHASSIS_ID, child=left_rear_wheel_id,limit=JointLimit(effort=1.0, velocity=1.0)),\n",
    "        Joint(name='right_rear_wheel_joint', joint_type='revolute', parent=CHASSIS_ID, child=right_rear_wheel_id,limit=JointLimit(effort=1.0, velocity=1.0),),\n",
    "    ]\n",
    ")"
   ]
  },
  {
   "cell_type": "code",
   "execution_count": null,
   "metadata": {},
   "outputs": [],
   "source": [
    "# urdf._to_xml(parent=Element(\"Tag\") ,path='four_wheel_robot.urdf')\n",
    "OUTPUT_FILE_PATH = 'four_wheel_robot.urdf'\n",
    "wheel_axel_test_urdf.save(OUTPUT_FILE_PATH)"
   ]
  },
  {
   "cell_type": "code",
   "execution_count": null,
   "metadata": {},
   "outputs": [],
   "source": [
    "import shutil\n",
    "import subprocess\n",
    "\n",
    "\n",
    "BINARY_NAME = \"urdf-viz\"\n",
    "BINARY_PATH = shutil.which(BINARY_NAME)\n",
    "def run_binary(file_path: str):\n",
    "    process = subprocess.Popen([BINARY_PATH, file_path])\n",
    "\n",
    "run_binary(OUTPUT_FILE_PATH)"
   ]
  },
  {
   "cell_type": "code",
   "execution_count": null,
   "metadata": {},
   "outputs": [],
   "source": []
  }
 ],
 "metadata": {
  "kernelspec": {
   "display_name": ".venv",
   "language": "python",
   "name": "python3"
  },
  "language_info": {
   "codemirror_mode": {
    "name": "ipython",
    "version": 3
   },
   "file_extension": ".py",
   "mimetype": "text/x-python",
   "name": "python",
   "nbconvert_exporter": "python",
   "pygments_lexer": "ipython3",
   "version": "3.8.10"
  }
 },
 "nbformat": 4,
 "nbformat_minor": 2
}
