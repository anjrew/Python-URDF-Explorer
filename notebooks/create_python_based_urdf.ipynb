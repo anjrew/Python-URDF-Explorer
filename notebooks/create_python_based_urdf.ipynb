{
 "cells": [
  {
   "cell_type": "code",
   "execution_count": 1,
   "metadata": {},
   "outputs": [],
   "source": [
    "import os\n",
    "import sys\n",
    "\n",
    "# Add the root directory for packages\n",
    "notebook_dir = os.getcwd()\n",
    "\n",
    "parent_dir = os.path.dirname(notebook_dir)\n",
    "\n",
    "sys.path.append(parent_dir)\n"
   ]
  },
  {
   "cell_type": "code",
   "execution_count": 2,
   "metadata": {},
   "outputs": [],
   "source": [
    "\n",
    "from urdfpy import URDF, Box, Cylinder, Joint, Link, Material, Collision, Visual, Inertial, Geometry\n"
   ]
  },
  {
   "cell_type": "code",
   "execution_count": 3,
   "metadata": {},
   "outputs": [],
   "source": [
    "from typing import Tuple\n",
    "\n",
    "import numpy as np\n",
    "\n",
    "from urdfpy.urdf import JointLimit\n",
    "from urdfpy.utils import xyz_rpy_to_matrix"
   ]
  },
  {
   "cell_type": "code",
   "execution_count": 4,
   "metadata": {},
   "outputs": [],
   "source": [
    "# Get properties via a yaml file\n",
    "from typing import Any, Dict\n",
    "import yaml\n",
    "\n",
    "def load_yaml_properties(file_path) -> Dict[str, Any]:\n",
    "    with open(file_path, 'r') as file:\n",
    "        properties = yaml.safe_load(file)\n",
    "        return properties"
   ]
  },
  {
   "cell_type": "code",
   "execution_count": 5,
   "metadata": {},
   "outputs": [],
   "source": [
    "MODEL_SCALER=10"
   ]
  },
  {
   "cell_type": "code",
   "execution_count": 6,
   "metadata": {},
   "outputs": [],
   "source": [
    "config_path = os.path.join(parent_dir, 'config', 'config.yaml')"
   ]
  },
  {
   "cell_type": "code",
   "execution_count": 7,
   "metadata": {},
   "outputs": [],
   "source": [
    "properties = load_yaml_properties(config_path)"
   ]
  },
  {
   "cell_type": "code",
   "execution_count": 8,
   "metadata": {},
   "outputs": [],
   "source": [
    "from pydantic import BaseModel, Field\n",
    "from typing import Dict\n",
    "\n",
    "class Angles(BaseModel):\n",
    "    degrees_45: float = Field(..., description=\"45 degrees in radians\")\n",
    "    degrees_90: float = Field(..., description=\"90 degrees in radians\")\n",
    "\n",
    "class Chassis(BaseModel):\n",
    "    length_m: float = Field(..., description=\"Chassis length in meters\")\n",
    "    width_m: float = Field(..., description=\"Chassis width in meters\")\n",
    "    height_m: float = Field(..., description=\"Chassis height in meters\")\n",
    "    mass_kg: float = Field(..., description=\"Chassis mass in kilograms\")\n",
    "\n",
    "class Wheel(BaseModel):\n",
    "    dimeter_m: float = Field(..., description=\"Wheel diameter in meters\")\n",
    "    width_m: float = Field(..., description=\"Wheel width in meters\")\n",
    "    mass_kg: float = Field(..., description=\"Wheel mass in kilograms\")\n",
    "\n",
    "class Tire(BaseModel):\n",
    "    diameter_m: float = Field(..., description=\"Tire diameter in meters\")\n",
    "    depth_m: float = Field(..., description=\"Tire depth in meters\")\n",
    "    width_m: float = Field(..., description=\"Tire width in meters\")\n",
    "\n",
    "class SteeringColumn(BaseModel):\n",
    "    length_m: float = Field(..., description=\"Vertical height of the steering rod in meters\")\n",
    "    diameter_m: float = Field(..., description=\"Diameter of the steering rod in meters\")\n",
    "    mass_kg: float = Field(..., description=\"Mass of the steering column in kilograms\")\n",
    "    max_angle_deg: float = Field(..., description=\"Maximum steering angle in degrees\")\n",
    "    effort_Nm: float = Field(..., description=\"Maximum torque that can be applied to the steering column in Newton-meters\")\n",
    "    rads_per_sec: float = Field(..., description=\"Maximum angular velocity of the steering column in radians per second\")\n",
    "    camber_deg: float = Field(..., description=\"Camber angle in degrees\")\n",
    "\n",
    "class CarGeometry(BaseModel):\n",
    "    wheelbase: float = Field(..., description=\"Wheelbase in meters\")\n",
    "    wheel_x_offset_from_edge_m: float = Field(..., description=\"Wheel X offset from edge in meters\")\n",
    "    rotational_center_offset_m: float = Field(..., description=\"Rotational center offset in meters\")\n",
    "    wheel_z_base_offset_m: float = Field(..., description=\"Wheel Z base offset in meters\")\n",
    "\n",
    "class LidarBase(BaseModel):\n",
    "    height_m: float = Field(..., description=\"Lidar base height in meters\")\n",
    "    width_m: float = Field(..., description=\"Lidar base width in meters\")\n",
    "\n",
    "class LidarScanner(BaseModel):\n",
    "    diameter_m: float = Field(..., description=\"Lidar scanner diameter in meters\")\n",
    "    height_m: float = Field(..., description=\"Lidar scanner height in meters\")\n",
    "\n",
    "class Lidar(BaseModel):\n",
    "    base: LidarBase\n",
    "    scanner: LidarScanner\n",
    "    weight_kg: float = Field(..., description=\"Lidar weight in kilograms\")\n",
    "\n",
    "class LidarMount(BaseModel):\n",
    "    height_m: float = Field(..., description=\"Lidar mount height in meters\")\n",
    "    width_m: float = Field(..., description=\"Lidar mount width in meters\")\n",
    "    length_offset_m: float = Field(..., description=\"Lidar mount length offset in meters\")\n",
    "    mass_kg: float = Field(..., description=\"Lidar mount mass in kilograms\")\n",
    "\n",
    "class Mounts(BaseModel):\n",
    "    lidar: LidarMount\n",
    "\n",
    "class AxleProperties(BaseModel):\n",
    "    length_m: float = Field(..., description=\"Length of the axle in meters\")\n",
    "    diameter_m: float = Field(..., description=\"Diameter of the axle in meters\")\n",
    "    mass_kg: float = Field(..., description=\"Mass of the axle in kilograms\")\n",
    "    \n",
    "class Boticar(BaseModel):\n",
    "    chassis: Chassis\n",
    "    wheel: Wheel\n",
    "    axle: AxleProperties\n",
    "    steering_column: SteeringColumn\n",
    "    tire: Tire\n",
    "    geometry: CarGeometry\n",
    "    lidar: Lidar\n",
    "    mounts: Mounts\n"
   ]
  },
  {
   "cell_type": "code",
   "execution_count": 9,
   "metadata": {},
   "outputs": [],
   "source": [
    "robot_properties = Boticar.model_validate(properties[\"boticar\"])"
   ]
  },
  {
   "cell_type": "code",
   "execution_count": 10,
   "metadata": {},
   "outputs": [],
   "source": [
    "class ColorsRgba:\n",
    "    BLACK = (0, 0, 0, 1)\n",
    "    WHITE = (1, 1, 1, 1)\n",
    "    RED = (1, 0, 0, 1)\n",
    "    GREEN = (0, 1, 0, 1)\n",
    "    BLUE = (0, 0, 1, 1)\n",
    "    YELLOW = (1, 1, 0, 1)\n",
    "    CYAN = (0, 1, 1, 1)\n",
    "    MAGENTA = (1, 0, 1, 1)\n",
    "    GREY = (0.5, 0.5, 0.5, 1)  # Medium grey\n",
    "    LIGHT_GREY = (0.75, 0.75, 0.75, 1)\n",
    "    DARK_GREY = (0.25, 0.25, 0.25, 1)\n",
    "    PINK = (1, 0.75, 0.8, 1)"
   ]
  },
  {
   "cell_type": "code",
   "execution_count": 11,
   "metadata": {},
   "outputs": [],
   "source": [
    "\n",
    "from enum import Enum\n",
    "\n",
    "\n",
    "class JointType(str, Enum):\n",
    "    \"\"\"\n",
    "    Enum representing the types of joints used in robotics.\n",
    "    \"\"\"\n",
    "\n",
    "    FIXED = \"fixed\"\n",
    "    \"\"\"\n",
    "    A fixed joint has no degrees of freedom. It rigidly attaches two links together.\n",
    "    Use this for parts that do not move relative to each other.\n",
    "    \"\"\"\n",
    "\n",
    "    REVOLUTE = \"revolute\"\n",
    "    \"\"\"\n",
    "    A revolute joint rotates around a single axis and has a limited range of motion.\n",
    "    It is typically used for hinged joints like elbows or steering mechanisms.\n",
    "    \"\"\"\n",
    "\n",
    "    CONTINUOUS = \"continuous\"\n",
    "    \"\"\"\n",
    "    Similar to a revolute joint, but with no limits on its range of motion.\n",
    "    It can rotate continuously around the axis. Ideal for wheels or continuous rotations.\n",
    "    \"\"\"\n",
    "\n",
    "    PRISMATIC = \"prismatic\"\n",
    "    \"\"\"\n",
    "    A prismatic joint allows for linear motion along a single axis.\n",
    "    It is used for sliding or extending mechanisms, like a piston or linear actuator.\n",
    "    \"\"\"\n",
    "\n",
    "    FLOATING = \"floating\"\n",
    "    \"\"\"\n",
    "    A floating joint allows motion in all 6 degrees of freedom (3 translational, 3 rotational).\n",
    "    It is often used to represent the base link of a free-floating robot.\n",
    "    \"\"\"\n",
    "\n",
    "    PLANAR = \"planar\"\n",
    "    \"\"\"\n",
    "    A planar joint allows motion in a plane perpendicular to the axis.\n",
    "    It has 3 degrees of freedom: two translational and one rotational.\n",
    "    \"\"\"\n",
    "\n",
    "    SPHERICAL = \"spherical\"\n",
    "    \"\"\"\n",
    "    A spherical joint, also known as a ball joint, allows rotation around three axes.\n",
    "    It has 3 rotational degrees of freedom but no translation.\n",
    "    \"\"\""
   ]
  },
  {
   "cell_type": "code",
   "execution_count": 12,
   "metadata": {},
   "outputs": [],
   "source": [
    "from urdfpy.urdf import Sphere\n",
    "\n",
    "def scale_inertia(inertia: np.ndarray, scale_factor: float) -> np.ndarray:\n",
    "    \"\"\"\n",
    "    Scale the 3x3 inertia matrix.\n",
    "    \n",
    "    :param inertia: 3x3 inertia matrix\n",
    "    :param scale_factor: The factor by which to scale the model\n",
    "    :return: Scaled 3x3 inertia matrix\n",
    "    \"\"\"\n",
    "    # Inertia scales with the fifth power of linear dimensions\n",
    "    return inertia * (scale_factor ** 5)\n",
    "\n",
    "def scale_urdf_model(urdf_model: URDF, scale_factor: float) -> URDF:\n",
    "    \"\"\"\n",
    "    Scale an entire URDF model by a given factor.\n",
    "    \n",
    "    :param urdf_model: The original URDF model\n",
    "    :param scale_factor: The factor by which to scale the model\n",
    "    :return: A new, scaled URDF model\n",
    "    \"\"\"\n",
    "    \n",
    "    links=[]\n",
    "    for link in urdf_model.links:\n",
    "        visuals = []\n",
    "        collisions = []\n",
    "        inertial = None        \n",
    "        # Scale visuals\n",
    "        for visual in link.visuals:\n",
    "            scaled_visual = Visual(\n",
    "                geometry=scale_geometry(visual.geometry, scale_factor),\n",
    "                material=visual.material,\n",
    "                origin=visual.origin * scale_factor\n",
    "            )\n",
    "            visuals.append(scaled_visual)\n",
    "        \n",
    "        # Scale collisions (if present)\n",
    "        for collision in link.collisions:\n",
    "            scaled_collision = Collision(\n",
    "                name=collision.name,\n",
    "                geometry=scale_geometry(collision.geometry, scale_factor),\n",
    "                origin=visual.origin * scale_factor\n",
    "            )\n",
    "            collisions.append(scaled_collision)\n",
    "        \n",
    "        # Scale inertial properties\n",
    "        if link.inertial:\n",
    "            scaled_inertial = Inertial(\n",
    "                mass=link.inertial.mass,\n",
    "                origin=visual.origin * scale_factor,\n",
    "                inertia=scale_inertia(link.inertial.inertia, scale_factor)\n",
    "            )\n",
    "            inertial = scaled_inertial\n",
    "        \n",
    "        links.append(\n",
    "            Link(name=link.name, visuals=visuals, collisions=collisions, inertial=inertial)\n",
    "        )\n",
    "    \n",
    "    # Scale joints\n",
    "    joints = []\n",
    "    for joint in urdf_model.joints:\n",
    "        scaled_joint = Joint(\n",
    "            name=joint.name,\n",
    "            joint_type=joint.joint_type,\n",
    "            parent=joint.parent,\n",
    "            child=joint.child,\n",
    "            axis=joint.axis,\n",
    "            origin=joint.origin * scale_factor,\n",
    "            limit=joint.limit,\n",
    "            dynamics=joint.dynamics\n",
    "        )\n",
    "        joints.append(scaled_joint)\n",
    "    return URDF(name=f\"{urdf_model.name}_scaled\", joints=joints, links=links)\n",
    "\n",
    "def scale_geometry(geometry: Geometry, scale_factor: float) -> Geometry:\n",
    "    if isinstance(geometry.box, Box):\n",
    "        geometry.box = Box(size=np.array(geometry.box) * scale_factor)\n",
    "    elif isinstance(geometry.cylinder, Cylinder):\n",
    "        geometry.cylinder = Cylinder(radius=geometry.cylinder.radius * scale_factor, length=geometry.cylinder.length * scale_factor)\n",
    "    elif isinstance(geometry.sphere, Sphere):\n",
    "        geometry.cylinder = Sphere(radius=geometry.sphere.radius * scale_factor)        \n",
    "    return geometry\n",
    "\n"
   ]
  },
  {
   "cell_type": "code",
   "execution_count": 13,
   "metadata": {},
   "outputs": [],
   "source": [
    "\n",
    "class ShapeInertias:\n",
    "\n",
    "    @staticmethod\n",
    "    def get_uniform_box_inertia(mass: float, length_width_height_m: Tuple[float, float, float]) -> np.ndarray:\n",
    "        \"\"\"\n",
    "        Compute the inertia of a uniform box\n",
    "        :param mass: mass of the box\n",
    "        :param size: size of the box (x, y, z)\n",
    "        :return: mass and inertia\n",
    "        \"\"\"\n",
    "        a, b, c = length_width_height_m\n",
    "        return np.array([\n",
    "            [1/12 * mass * (b**2 + c**2), 0, 0],\n",
    "            [0, 1/12 * mass * (a**2 + c**2), 0],\n",
    "            [0, 0, 1/12 * mass * (a**2 + b**2)]\n",
    "        ])\n",
    "        \n",
    "    @staticmethod\n",
    "    def get_uniform_cylinder_inertia(mass: float, radius: float, height: float) -> np.ndarray:\n",
    "        \"\"\"\n",
    "        Compute the inertia of a uniform cylinder\n",
    "        :param mass: mass of the cylinder\n",
    "        :param radius: radius of the cylinder\n",
    "        :param height: height of the cylinder\n",
    "        :return: mass and inertia\n",
    "        \"\"\"\n",
    "        # Moment of inertia for a solid cylinder\n",
    "        Ix_Iy = (1/12) * mass * (3 * radius**2 + height**2)  # about diameter\n",
    "        Iz = (1/2) * mass * radius**2  # about central axis\n",
    "        \n",
    "        return np.array([\n",
    "            [Ix_Iy, 0.0, 0.0],\n",
    "            [0.0, Ix_Iy, 0.0],\n",
    "            [0.0, 0.0, Iz]\n",
    "        ])\n"
   ]
  },
  {
   "cell_type": "code",
   "execution_count": 14,
   "metadata": {},
   "outputs": [],
   "source": [
    "# IDS\n",
    "\n",
    "CHASSIS_ID = 'chassis'\n"
   ]
  },
  {
   "cell_type": "code",
   "execution_count": 15,
   "metadata": {},
   "outputs": [],
   "source": [
    "\n",
    "def create_chassis_link(props: Chassis) -> Link:\n",
    "    length_width_height_m = (props.length_m, props.width_m, props.height_m)\n",
    "    geo = Geometry(box=Box(length_width_height_m))\n",
    "    uniform_cuboid_inertia = ShapeInertias.get_uniform_box_inertia(props.mass_kg, length_width_height_m)\n",
    "\n",
    "    return Link(\n",
    "        visuals=[Visual(\n",
    "            geometry=geo,\n",
    "            material=Material('chassis_color', color=ColorsRgba.BLACK)\n",
    "        )],\n",
    "        collisions=[Collision(\n",
    "            geometry=Geometry(box=Box(size=length_width_height_m)),\n",
    "            name='chassis_collision'\n",
    "        )],\n",
    "        inertial=Inertial(mass=props.mass_kg, inertia=uniform_cuboid_inertia),\n",
    "        name=CHASSIS_ID\n",
    "    )\n",
    "\n",
    "def create_wheel_link(\n",
    "    name: str,\n",
    "    props: Wheel\n",
    ") -> Link:\n",
    "    radius_m = props.dimeter_m / 2\n",
    "    geo = Cylinder(radius_m, props.width_m)\n",
    "    inertial_matrix =  ShapeInertias.get_uniform_cylinder_inertia(props.mass_kg, radius_m, props.width_m)\n",
    "    return Link(\n",
    "        visuals=[Visual(Geometry(cylinder=geo), Material('wheel_color'))],\n",
    "        collisions=[Collision(geometry=Geometry(cylinder=geo), name='wheel_collision')],\n",
    "        inertial=Inertial(props.mass_kg, inertia=inertial_matrix),\n",
    "        name=name\n",
    "    )\n",
    "    \n",
    "def create_axle_link(position_id: str, axle: AxleProperties) -> Link:\n",
    "    # Create a simple cylindrical link for the axle\n",
    "    axle_radius_m = axle.diameter_m / 2\n",
    "    \n",
    "    geo = create_uniform_cylinder_geometry(axle.length_m, axle_radius_m)\n",
    "    return Link(\n",
    "        name=f\"{position_id}_axle\",\n",
    "        visuals=[Visual(\n",
    "            geometry=geo,\n",
    "            material=Material('axle_color', color=ColorsRgba.GREY)\n",
    "        )],\n",
    "        collisions=[Collision(\n",
    "            geometry=geo,\n",
    "            name=f\"{position_id}_axle_collision\"\n",
    "        )],\n",
    "        inertial=Inertial(\n",
    "            mass=robot_properties.axle.mass_kg,\n",
    "            inertia=ShapeInertias.get_uniform_cylinder_inertia(\n",
    "                axle.mass_kg,\n",
    "                axle_radius_m,\n",
    "                axle.length_m\n",
    "            )\n",
    "        )\n",
    "    )\n",
    "\n",
    "def create_uniform_cylinder_geometry(length_m: float, radius_m: float) -> Geometry:\n",
    "    return Geometry(cylinder=Cylinder(radius=radius_m, length=length_m))\n",
    "\n",
    "def create_steering_column_link(column_name: str, properties: SteeringColumn) -> Link:\n",
    "   \n",
    "    radius_m = properties.diameter_m / 2\n",
    "    \n",
    "    geo = create_uniform_cylinder_geometry(properties.length_m, radius_m)\n",
    "    column_name = column_name + \"_steering_column\"\n",
    "    return Link(\n",
    "        name=column_name,\n",
    "        visuals=[Visual(\n",
    "            geometry=geo,\n",
    "            material=Material('column_color', color=ColorsRgba.GREY)\n",
    "        )],\n",
    "        collisions=[Collision(\n",
    "            geometry=geo,\n",
    "            name=f\"{column_name}_collision\"\n",
    "        )],\n",
    "        inertial=Inertial(\n",
    "            mass=robot_properties.axle.mass_kg,\n",
    "            inertia=ShapeInertias.get_uniform_cylinder_inertia(\n",
    "                properties.mass_kg,\n",
    "                radius_m,\n",
    "                properties.length_m\n",
    "            )\n",
    "        )\n",
    "    )"
   ]
  },
  {
   "cell_type": "code",
   "execution_count": 16,
   "metadata": {},
   "outputs": [],
   "source": [
    "\n",
    "chassis = create_chassis_link(robot_properties.chassis)"
   ]
  },
  {
   "cell_type": "code",
   "execution_count": 17,
   "metadata": {},
   "outputs": [
    {
     "name": "stderr",
     "output_type": "stream",
     "text": [
      "/home/aj/Desktop/Python-URDF-Explorer/.venv/lib/python3.8/site-packages/pydantic/_migration.py:283: UserWarning: `pydantic.generics:GenericModel` has been moved to `pydantic.BaseModel`.\n",
      "  warnings.warn(f'`{import_path}` has been moved to `{new_location}`.')\n"
     ]
    }
   ],
   "source": [
    "\n",
    "from enum import Enum\n",
    "from typing import Generic, TypeVar\n",
    "from pydantic.generics import GenericModel\n",
    "\n",
    "T = TypeVar('T')\n",
    "\n",
    "class WheelPosition(Enum):\n",
    "    LEFT_FRONT = \"left_front\"\n",
    "    RIGHT_FRONT = \"right_front\"\n",
    "    LEFT_REAR = \"left_rear\"\n",
    "    RIGHT_REAR = \"right_rear\"\n",
    "    \n",
    "\n",
    "class WheelDirectionsDetails(GenericModel, Generic[T]):\n",
    "    left: T\n",
    "    right: T\n",
    "\n",
    "\n",
    "class WheelDetails(GenericModel, Generic[T]):\n",
    "    front: WheelDirectionsDetails[T]\n",
    "    rear: WheelDirectionsDetails[T]"
   ]
  },
  {
   "cell_type": "code",
   "execution_count": 18,
   "metadata": {},
   "outputs": [],
   "source": [
    "wheel_ids = [WheelPosition.LEFT_FRONT, WheelPosition.RIGHT_FRONT, WheelPosition.LEFT_REAR, WheelPosition.RIGHT_REAR]\n"
   ]
  },
  {
   "cell_type": "code",
   "execution_count": 19,
   "metadata": {},
   "outputs": [],
   "source": [
    "wheel_links = WheelDetails(\n",
    "    front=WheelDirectionsDetails(\n",
    "        left=create_wheel_link(WheelPosition.LEFT_FRONT.name, robot_properties.wheel),\n",
    "        right=create_wheel_link(WheelPosition.RIGHT_FRONT.name, robot_properties.wheel)\n",
    "    ),\n",
    "    rear=WheelDirectionsDetails(\n",
    "        left=create_wheel_link(WheelPosition.LEFT_REAR.name, robot_properties.wheel),\n",
    "        right=create_wheel_link(WheelPosition.RIGHT_REAR.name, robot_properties.wheel)\n",
    "    )\n",
    ")"
   ]
  },
  {
   "cell_type": "code",
   "execution_count": 20,
   "metadata": {},
   "outputs": [],
   "source": [
    "axle_links = WheelDetails(\n",
    "    front=WheelDirectionsDetails(\n",
    "        left=create_axle_link(WheelPosition.LEFT_FRONT.name, robot_properties.axle),\n",
    "        right=create_axle_link(WheelPosition.RIGHT_FRONT.name, robot_properties.axle)\n",
    "    ),\n",
    "    rear=WheelDirectionsDetails(\n",
    "        left=create_axle_link(WheelPosition.LEFT_REAR.name, robot_properties.axle),\n",
    "        right=create_axle_link(WheelPosition.RIGHT_REAR.name, robot_properties.axle)\n",
    "    )\n",
    ")"
   ]
  },
  {
   "cell_type": "code",
   "execution_count": 21,
   "metadata": {},
   "outputs": [],
   "source": [
    "front_steering_columns = WheelDirectionsDetails(\n",
    "    left=create_steering_column_link(WheelPosition.LEFT_FRONT.name, robot_properties.steering_column),\n",
    "    right=create_steering_column_link(WheelPosition.RIGHT_FRONT.name, robot_properties.steering_column)\n",
    ")\n",
    "    "
   ]
  },
  {
   "cell_type": "code",
   "execution_count": 22,
   "metadata": {},
   "outputs": [],
   "source": [
    "# Try joining one wheel to one axle\n",
    "def create_wheel_axle_joint(wheel_id: str, axle_id: str) -> Joint:\n",
    "    return Joint(\n",
    "        name=f\"{wheel_id}_to_{axle_id}_joint\",\n",
    "        joint_type='continuous',\n",
    "        parent=axle_id,\n",
    "        child=wheel_id,\n",
    "        axis=[0, 0, 1], # Rotate around the z-axis\n",
    "        origin=xyz_rpy_to_matrix([0, 0, 0, 0, 0, 0])\n",
    "    )"
   ]
  },
  {
   "cell_type": "code",
   "execution_count": 23,
   "metadata": {},
   "outputs": [],
   "source": [
    "left_front_wheel_joint = create_wheel_axle_joint(wheel_links.front.left.name, axle_links.front.left.name)"
   ]
  },
  {
   "cell_type": "code",
   "execution_count": 24,
   "metadata": {},
   "outputs": [],
   "source": [
    "wheel_axle_test_id = 'wheel_axle_test'\n",
    "wheel_axel_test_urdf = URDF(\n",
    "    name=wheel_axle_test_id,\n",
    "    links=[wheel_links.front.left, axle_links.front.left],\n",
    "    joints=[left_front_wheel_joint]\n",
    ")"
   ]
  },
  {
   "cell_type": "code",
   "execution_count": 25,
   "metadata": {},
   "outputs": [],
   "source": [
    "import shutil\n",
    "import subprocess\n",
    "\n",
    "def render_urdf(urdf: URDF):\n",
    "    output_file_path = f'{urdf.name}.urdf'\n",
    "    urdf.save(output_file_path)\n",
    "    BINARY_NAME = \"urdf-viz\"\n",
    "    BINARY_PATH = shutil.which(BINARY_NAME)\n",
    "    def run_binary(file_path: str):\n",
    "        process = subprocess.Popen([BINARY_PATH, file_path])\n",
    "\n",
    "    run_binary(output_file_path)"
   ]
  },
  {
   "cell_type": "code",
   "execution_count": 26,
   "metadata": {},
   "outputs": [],
   "source": [
    "# render_urdf(wheel_axel_test_urdf)"
   ]
  },
  {
   "cell_type": "code",
   "execution_count": 27,
   "metadata": {},
   "outputs": [],
   "source": [
    "# Try joining one wheel to one axle\n",
    "import math\n",
    "\n",
    "\n",
    "def create_axle_column_joint(axle_id: str, column_id: str, steering_column: SteeringColumn) -> Joint:\n",
    "    print(\"axle_id\", axle_id, \"column_id\", column_id)\n",
    "    return Joint(\n",
    "        name=f\"{axle_id}_to_{column_id}_joint\",\n",
    "        joint_type=JointType.REVOLUTE.value,\n",
    "        parent=column_id,\n",
    "        child=axle_id,\n",
    "        limit=JointLimit(\n",
    "            lower=-math.radians(steering_column.max_angle_deg),\n",
    "            upper=math.radians(steering_column.max_angle_deg),\n",
    "            effort=steering_column.effort_Nm,\n",
    "            velocity=steering_column.rads_per_sec\n",
    "        ),\n",
    "        axis=[0, 0, 1], # Rotate around the z-axis\n",
    "        origin=xyz_rpy_to_matrix([steering_column.length_m, 0, 0, 0, np.pi/2, 0,])\n",
    "    )"
   ]
  },
  {
   "cell_type": "code",
   "execution_count": 28,
   "metadata": {},
   "outputs": [
    {
     "name": "stdout",
     "output_type": "stream",
     "text": [
      "axle_id LEFT_FRONT_axle column_id LEFT_FRONT_steering_column\n"
     ]
    }
   ],
   "source": [
    "left_front_axle_column_joint = create_axle_column_joint(axle_links.front.left.name, front_steering_columns.left.name, robot_properties.steering_column)"
   ]
  },
  {
   "cell_type": "code",
   "execution_count": 29,
   "metadata": {},
   "outputs": [],
   "source": [
    "font_left_axle_link = axle_links.front.left\n",
    "font_left_steering_link = front_steering_columns.left"
   ]
  },
  {
   "cell_type": "code",
   "execution_count": 30,
   "metadata": {},
   "outputs": [
    {
     "data": {
      "text/plain": [
       "{'_name': 'LEFT_FRONT_axle',\n",
       " '_inertial': <urdfpy.urdf.Inertial at 0x7f03b83c8a90>,\n",
       " '_visuals': [<urdfpy.urdf.Visual at 0x7f03b83c8880>],\n",
       " '_collisions': [<urdfpy.urdf.Collision at 0x7f03b83c85b0>],\n",
       " '_collision_mesh': None}"
      ]
     },
     "execution_count": 30,
     "metadata": {},
     "output_type": "execute_result"
    }
   ],
   "source": [
    "vars(font_left_axle_link)"
   ]
  },
  {
   "cell_type": "code",
   "execution_count": 31,
   "metadata": {},
   "outputs": [],
   "source": [
    "# render_urdf(\n",
    "#     scale_urdf_model(URDF(\n",
    "#         name=\"Axle column test\",\n",
    "#         links=[font_left_axle_link, font_left_steering_link],\n",
    "#         joints=[left_front_axle_column_joint]\n",
    "#     ) , 10\n",
    "#     )\n",
    "# )"
   ]
  },
  {
   "cell_type": "code",
   "execution_count": 32,
   "metadata": {},
   "outputs": [],
   "source": [
    "urdf = URDF(\n",
    "        name=\"Axle column test\",\n",
    "        links=[font_left_axle_link, font_left_steering_link],\n",
    "        joints=[left_front_axle_column_joint]\n",
    "    )\n",
    "    \n"
   ]
  },
  {
   "cell_type": "code",
   "execution_count": 33,
   "metadata": {},
   "outputs": [
    {
     "ename": "KeyboardInterrupt",
     "evalue": "",
     "output_type": "error",
     "traceback": [
      "\u001b[0;31m---------------------------------------------------------------------------\u001b[0m",
      "\u001b[0;31mKeyboardInterrupt\u001b[0m                         Traceback (most recent call last)",
      "Cell \u001b[0;32mIn[33], line 1\u001b[0m\n\u001b[0;32m----> 1\u001b[0m \u001b[43murdf\u001b[49m\u001b[38;5;241;43m.\u001b[39;49m\u001b[43mshow\u001b[49m\u001b[43m(\u001b[49m\u001b[43m)\u001b[49m\n",
      "File \u001b[0;32m~/Desktop/Python-URDF-Explorer/urdfpy/urdf.py:3572\u001b[0m, in \u001b[0;36mURDF.show\u001b[0;34m(self, cfg, use_collision)\u001b[0m\n\u001b[1;32m   3570\u001b[0m     mesh \u001b[38;5;241m=\u001b[39m pyrender\u001b[38;5;241m.\u001b[39mMesh\u001b[38;5;241m.\u001b[39mfrom_trimesh(tm, smooth\u001b[38;5;241m=\u001b[39m\u001b[38;5;28;01mFalse\u001b[39;00m)\n\u001b[1;32m   3571\u001b[0m     scene\u001b[38;5;241m.\u001b[39madd(mesh, pose\u001b[38;5;241m=\u001b[39mpose)\n\u001b[0;32m-> 3572\u001b[0m \u001b[43mpyrender\u001b[49m\u001b[38;5;241;43m.\u001b[39;49m\u001b[43mViewer\u001b[49m\u001b[43m(\u001b[49m\u001b[43mscene\u001b[49m\u001b[43m,\u001b[49m\u001b[43m \u001b[49m\u001b[43muse_raymond_lighting\u001b[49m\u001b[38;5;241;43m=\u001b[39;49m\u001b[38;5;28;43;01mTrue\u001b[39;49;00m\u001b[43m)\u001b[49m\n",
      "File \u001b[0;32m~/Desktop/Python-URDF-Explorer/.venv/lib/python3.8/site-packages/pyrender/viewer.py:349\u001b[0m, in \u001b[0;36mViewer.__init__\u001b[0;34m(self, scene, viewport_size, render_flags, viewer_flags, registered_keys, run_in_thread, **kwargs)\u001b[0m\n\u001b[1;32m    347\u001b[0m     \u001b[38;5;28mself\u001b[39m\u001b[38;5;241m.\u001b[39m_thread\u001b[38;5;241m.\u001b[39mstart()\n\u001b[1;32m    348\u001b[0m \u001b[38;5;28;01melse\u001b[39;00m:\n\u001b[0;32m--> 349\u001b[0m     \u001b[38;5;28;43mself\u001b[39;49m\u001b[38;5;241;43m.\u001b[39;49m\u001b[43m_init_and_start_app\u001b[49m\u001b[43m(\u001b[49m\u001b[43m)\u001b[49m\n",
      "File \u001b[0;32m~/Desktop/Python-URDF-Explorer/.venv/lib/python3.8/site-packages/pyrender/viewer.py:1030\u001b[0m, in \u001b[0;36mViewer._init_and_start_app\u001b[0;34m(self)\u001b[0m\n\u001b[1;32m   1028\u001b[0m \u001b[38;5;28mself\u001b[39m\u001b[38;5;241m.\u001b[39mswitch_to()\n\u001b[1;32m   1029\u001b[0m \u001b[38;5;28mself\u001b[39m\u001b[38;5;241m.\u001b[39mset_caption(\u001b[38;5;28mself\u001b[39m\u001b[38;5;241m.\u001b[39mviewer_flags[\u001b[38;5;124m'\u001b[39m\u001b[38;5;124mwindow_title\u001b[39m\u001b[38;5;124m'\u001b[39m])\n\u001b[0;32m-> 1030\u001b[0m \u001b[43mpyglet\u001b[49m\u001b[38;5;241;43m.\u001b[39;49m\u001b[43mapp\u001b[49m\u001b[38;5;241;43m.\u001b[39;49m\u001b[43mrun\u001b[49m\u001b[43m(\u001b[49m\u001b[43m)\u001b[49m\n",
      "File \u001b[0;32m~/Desktop/Python-URDF-Explorer/.venv/lib/python3.8/site-packages/pyglet/app/__init__.py:77\u001b[0m, in \u001b[0;36mrun\u001b[0;34m(interval)\u001b[0m\n\u001b[1;32m     69\u001b[0m \u001b[38;5;28;01mdef\u001b[39;00m \u001b[38;5;21mrun\u001b[39m(interval: \u001b[38;5;28mfloat\u001b[39m \u001b[38;5;241m|\u001b[39m \u001b[38;5;28;01mNone\u001b[39;00m \u001b[38;5;241m=\u001b[39m \u001b[38;5;241m1\u001b[39m\u001b[38;5;241m/\u001b[39m\u001b[38;5;241m60\u001b[39m) \u001b[38;5;241m-\u001b[39m\u001b[38;5;241m>\u001b[39m \u001b[38;5;28;01mNone\u001b[39;00m:\n\u001b[1;32m     70\u001b[0m \u001b[38;5;250m    \u001b[39m\u001b[38;5;124;03m\"\"\"Begin processing events, scheduled functions and window updates.\u001b[39;00m\n\u001b[1;32m     71\u001b[0m \n\u001b[1;32m     72\u001b[0m \u001b[38;5;124;03m    This is a convenience function, equivalent to::\u001b[39;00m\n\u001b[0;32m   (...)\u001b[0m\n\u001b[1;32m     75\u001b[0m \n\u001b[1;32m     76\u001b[0m \u001b[38;5;124;03m    \"\"\"\u001b[39;00m\n\u001b[0;32m---> 77\u001b[0m     \u001b[43mevent_loop\u001b[49m\u001b[38;5;241;43m.\u001b[39;49m\u001b[43mrun\u001b[49m\u001b[43m(\u001b[49m\u001b[43minterval\u001b[49m\u001b[43m)\u001b[49m\n",
      "File \u001b[0;32m~/Desktop/Python-URDF-Explorer/.venv/lib/python3.8/site-packages/pyglet/app/base.py:164\u001b[0m, in \u001b[0;36mEventLoop.run\u001b[0;34m(self, interval)\u001b[0m\n\u001b[1;32m    161\u001b[0m \u001b[38;5;28mself\u001b[39m\u001b[38;5;241m.\u001b[39mis_running \u001b[38;5;241m=\u001b[39m \u001b[38;5;28;01mTrue\u001b[39;00m\n\u001b[1;32m    163\u001b[0m \u001b[38;5;28;01mwhile\u001b[39;00m \u001b[38;5;129;01mnot\u001b[39;00m \u001b[38;5;28mself\u001b[39m\u001b[38;5;241m.\u001b[39mhas_exit:\n\u001b[0;32m--> 164\u001b[0m     timeout \u001b[38;5;241m=\u001b[39m \u001b[38;5;28;43mself\u001b[39;49m\u001b[38;5;241;43m.\u001b[39;49m\u001b[43midle\u001b[49m\u001b[43m(\u001b[49m\u001b[43m)\u001b[49m\n\u001b[1;32m    165\u001b[0m     platform_event_loop\u001b[38;5;241m.\u001b[39mstep(timeout)\n\u001b[1;32m    167\u001b[0m \u001b[38;5;28mself\u001b[39m\u001b[38;5;241m.\u001b[39mis_running \u001b[38;5;241m=\u001b[39m \u001b[38;5;28;01mFalse\u001b[39;00m\n",
      "File \u001b[0;32m~/Desktop/Python-URDF-Explorer/.venv/lib/python3.8/site-packages/pyglet/app/base.py:232\u001b[0m, in \u001b[0;36mEventLoop.idle\u001b[0;34m(self)\u001b[0m\n\u001b[1;32m    207\u001b[0m \u001b[38;5;250m\u001b[39m\u001b[38;5;124;03m\"\"\"Called during each iteration of the event loop.\u001b[39;00m\n\u001b[1;32m    208\u001b[0m \n\u001b[1;32m    209\u001b[0m \u001b[38;5;124;03mThe method is called immediately after any window events (i.e., after\u001b[39;00m\n\u001b[0;32m   (...)\u001b[0m\n\u001b[1;32m    229\u001b[0m \u001b[38;5;124;03m    be called again, or ``None`` to block for user input.\u001b[39;00m\n\u001b[1;32m    230\u001b[0m \u001b[38;5;124;03m\"\"\"\u001b[39;00m\n\u001b[1;32m    231\u001b[0m dt \u001b[38;5;241m=\u001b[39m \u001b[38;5;28mself\u001b[39m\u001b[38;5;241m.\u001b[39mclock\u001b[38;5;241m.\u001b[39mupdate_time()\n\u001b[0;32m--> 232\u001b[0m \u001b[38;5;28;43mself\u001b[39;49m\u001b[38;5;241;43m.\u001b[39;49m\u001b[43mclock\u001b[49m\u001b[38;5;241;43m.\u001b[39;49m\u001b[43mcall_scheduled_functions\u001b[49m\u001b[43m(\u001b[49m\u001b[43mdt\u001b[49m\u001b[43m)\u001b[49m\n\u001b[1;32m    234\u001b[0m \u001b[38;5;66;03m# Update timout\u001b[39;00m\n\u001b[1;32m    235\u001b[0m \u001b[38;5;28;01mreturn\u001b[39;00m \u001b[38;5;28mself\u001b[39m\u001b[38;5;241m.\u001b[39mclock\u001b[38;5;241m.\u001b[39mget_sleep_time(\u001b[38;5;28;01mTrue\u001b[39;00m)\n",
      "File \u001b[0;32m~/Desktop/Python-URDF-Explorer/.venv/lib/python3.8/site-packages/pyglet/clock.py:217\u001b[0m, in \u001b[0;36mClock.call_scheduled_functions\u001b[0;34m(self, dt)\u001b[0m\n\u001b[1;32m    214\u001b[0m     \u001b[38;5;28;01mbreak\u001b[39;00m\n\u001b[1;32m    216\u001b[0m \u001b[38;5;66;03m# execute the callback\u001b[39;00m\n\u001b[0;32m--> 217\u001b[0m \u001b[43mitem\u001b[49m\u001b[38;5;241;43m.\u001b[39;49m\u001b[43mfunc\u001b[49m\u001b[43m(\u001b[49m\u001b[43mnow\u001b[49m\u001b[43m \u001b[49m\u001b[38;5;241;43m-\u001b[39;49m\u001b[43m \u001b[49m\u001b[43mitem\u001b[49m\u001b[38;5;241;43m.\u001b[39;49m\u001b[43mlast_ts\u001b[49m\u001b[43m,\u001b[49m\u001b[43m \u001b[49m\u001b[38;5;241;43m*\u001b[39;49m\u001b[43mitem\u001b[49m\u001b[38;5;241;43m.\u001b[39;49m\u001b[43margs\u001b[49m\u001b[43m,\u001b[49m\u001b[43m \u001b[49m\u001b[38;5;241;43m*\u001b[39;49m\u001b[38;5;241;43m*\u001b[39;49m\u001b[43mitem\u001b[49m\u001b[38;5;241;43m.\u001b[39;49m\u001b[43mkwargs\u001b[49m\u001b[43m)\u001b[49m\n\u001b[1;32m    219\u001b[0m \u001b[38;5;28;01mif\u001b[39;00m item\u001b[38;5;241m.\u001b[39minterval:\n\u001b[1;32m    220\u001b[0m \n\u001b[1;32m    221\u001b[0m     \u001b[38;5;66;03m# Try to keep timing regular, even if overslept this time;\u001b[39;00m\n\u001b[1;32m    222\u001b[0m     \u001b[38;5;66;03m# but don't schedule in the past (which could lead to\u001b[39;00m\n\u001b[1;32m    223\u001b[0m     \u001b[38;5;66;03m# infinitely-worsening error).\u001b[39;00m\n\u001b[1;32m    224\u001b[0m     item\u001b[38;5;241m.\u001b[39mnext_ts \u001b[38;5;241m=\u001b[39m item\u001b[38;5;241m.\u001b[39mlast_ts \u001b[38;5;241m+\u001b[39m item\u001b[38;5;241m.\u001b[39minterval\n",
      "File \u001b[0;32m~/Desktop/Python-URDF-Explorer/.venv/lib/python3.8/site-packages/pyrender/viewer.py:879\u001b[0m, in \u001b[0;36mViewer._time_event\u001b[0;34m(dt, self)\u001b[0m\n\u001b[1;32m    877\u001b[0m     \u001b[38;5;28mself\u001b[39m\u001b[38;5;241m.\u001b[39mon_close()\n\u001b[1;32m    878\u001b[0m \u001b[38;5;28;01melse\u001b[39;00m:\n\u001b[0;32m--> 879\u001b[0m     \u001b[38;5;28;43mself\u001b[39;49m\u001b[38;5;241;43m.\u001b[39;49m\u001b[43mon_draw\u001b[49m\u001b[43m(\u001b[49m\u001b[43m)\u001b[49m\n",
      "File \u001b[0;32m~/Desktop/Python-URDF-Explorer/.venv/lib/python3.8/site-packages/pyrender/viewer.py:568\u001b[0m, in \u001b[0;36mViewer.on_draw\u001b[0;34m(self)\u001b[0m\n\u001b[1;32m    566\u001b[0m \u001b[38;5;66;03m# Render the scene\u001b[39;00m\n\u001b[1;32m    567\u001b[0m \u001b[38;5;28mself\u001b[39m\u001b[38;5;241m.\u001b[39mclear()\n\u001b[0;32m--> 568\u001b[0m \u001b[38;5;28;43mself\u001b[39;49m\u001b[38;5;241;43m.\u001b[39;49m\u001b[43m_render\u001b[49m\u001b[43m(\u001b[49m\u001b[43m)\u001b[49m\n\u001b[1;32m    570\u001b[0m \u001b[38;5;28;01mif\u001b[39;00m \u001b[38;5;28mself\u001b[39m\u001b[38;5;241m.\u001b[39m_message_text \u001b[38;5;129;01mis\u001b[39;00m \u001b[38;5;129;01mnot\u001b[39;00m \u001b[38;5;28;01mNone\u001b[39;00m:\n\u001b[1;32m    571\u001b[0m     \u001b[38;5;28mself\u001b[39m\u001b[38;5;241m.\u001b[39m_renderer\u001b[38;5;241m.\u001b[39mrender_text(\n\u001b[1;32m    572\u001b[0m         \u001b[38;5;28mself\u001b[39m\u001b[38;5;241m.\u001b[39m_message_text,\n\u001b[1;32m    573\u001b[0m         \u001b[38;5;28mself\u001b[39m\u001b[38;5;241m.\u001b[39mviewport_size[\u001b[38;5;241m0\u001b[39m] \u001b[38;5;241m-\u001b[39m TEXT_PADDING,\n\u001b[0;32m   (...)\u001b[0m\n\u001b[1;32m    578\u001b[0m         align\u001b[38;5;241m=\u001b[39mTextAlign\u001b[38;5;241m.\u001b[39mBOTTOM_RIGHT\n\u001b[1;32m    579\u001b[0m     )\n",
      "File \u001b[0;32m~/Desktop/Python-URDF-Explorer/.venv/lib/python3.8/site-packages/pyrender/viewer.py:989\u001b[0m, in \u001b[0;36mViewer._render\u001b[0;34m(self)\u001b[0m\n\u001b[1;32m    986\u001b[0m \u001b[38;5;28;01mif\u001b[39;00m \u001b[38;5;129;01mnot\u001b[39;00m \u001b[38;5;28mself\u001b[39m\u001b[38;5;241m.\u001b[39mrender_flags[\u001b[38;5;124m'\u001b[39m\u001b[38;5;124mcull_faces\u001b[39m\u001b[38;5;124m'\u001b[39m]:\n\u001b[1;32m    987\u001b[0m     flags \u001b[38;5;241m|\u001b[39m\u001b[38;5;241m=\u001b[39m RenderFlags\u001b[38;5;241m.\u001b[39mSKIP_CULL_FACES\n\u001b[0;32m--> 989\u001b[0m \u001b[38;5;28;43mself\u001b[39;49m\u001b[38;5;241;43m.\u001b[39;49m\u001b[43m_renderer\u001b[49m\u001b[38;5;241;43m.\u001b[39;49m\u001b[43mrender\u001b[49m\u001b[43m(\u001b[49m\u001b[38;5;28;43mself\u001b[39;49m\u001b[38;5;241;43m.\u001b[39;49m\u001b[43mscene\u001b[49m\u001b[43m,\u001b[49m\u001b[43m \u001b[49m\u001b[43mflags\u001b[49m\u001b[43m)\u001b[49m\n",
      "File \u001b[0;32m~/Desktop/Python-URDF-Explorer/.venv/lib/python3.8/site-packages/pyrender/renderer.py:144\u001b[0m, in \u001b[0;36mRenderer.render\u001b[0;34m(self, scene, flags, seg_node_map)\u001b[0m\n\u001b[1;32m    141\u001b[0m             \u001b[38;5;28mself\u001b[39m\u001b[38;5;241m.\u001b[39m_shadow_mapping_pass(scene, ln, flags)\n\u001b[1;32m    143\u001b[0m \u001b[38;5;66;03m# Make forward pass\u001b[39;00m\n\u001b[0;32m--> 144\u001b[0m retval \u001b[38;5;241m=\u001b[39m \u001b[38;5;28;43mself\u001b[39;49m\u001b[38;5;241;43m.\u001b[39;49m\u001b[43m_forward_pass\u001b[49m\u001b[43m(\u001b[49m\u001b[43mscene\u001b[49m\u001b[43m,\u001b[49m\u001b[43m \u001b[49m\u001b[43mflags\u001b[49m\u001b[43m,\u001b[49m\u001b[43m \u001b[49m\u001b[43mseg_node_map\u001b[49m\u001b[38;5;241;43m=\u001b[39;49m\u001b[43mseg_node_map\u001b[49m\u001b[43m)\u001b[49m\n\u001b[1;32m    146\u001b[0m \u001b[38;5;66;03m# If necessary, make normals pass\u001b[39;00m\n\u001b[1;32m    147\u001b[0m \u001b[38;5;28;01mif\u001b[39;00m flags \u001b[38;5;241m&\u001b[39m (RenderFlags\u001b[38;5;241m.\u001b[39mVERTEX_NORMALS \u001b[38;5;241m|\u001b[39m RenderFlags\u001b[38;5;241m.\u001b[39mFACE_NORMALS):\n",
      "File \u001b[0;32m~/Desktop/Python-URDF-Explorer/.venv/lib/python3.8/site-packages/pyrender/renderer.py:386\u001b[0m, in \u001b[0;36mRenderer._forward_pass\u001b[0;34m(self, scene, flags, seg_node_map)\u001b[0m\n\u001b[1;32m    383\u001b[0m \u001b[38;5;66;03m# Next, bind the lighting\u001b[39;00m\n\u001b[1;32m    384\u001b[0m \u001b[38;5;28;01mif\u001b[39;00m \u001b[38;5;129;01mnot\u001b[39;00m (flags \u001b[38;5;241m&\u001b[39m RenderFlags\u001b[38;5;241m.\u001b[39mDEPTH_ONLY \u001b[38;5;129;01mor\u001b[39;00m flags \u001b[38;5;241m&\u001b[39m RenderFlags\u001b[38;5;241m.\u001b[39mFLAT \u001b[38;5;129;01mor\u001b[39;00m\n\u001b[1;32m    385\u001b[0m         flags \u001b[38;5;241m&\u001b[39m RenderFlags\u001b[38;5;241m.\u001b[39mSEG):\n\u001b[0;32m--> 386\u001b[0m     \u001b[38;5;28;43mself\u001b[39;49m\u001b[38;5;241;43m.\u001b[39;49m\u001b[43m_bind_lighting\u001b[49m\u001b[43m(\u001b[49m\u001b[43mscene\u001b[49m\u001b[43m,\u001b[49m\u001b[43m \u001b[49m\u001b[43mprogram\u001b[49m\u001b[43m,\u001b[49m\u001b[43m \u001b[49m\u001b[43mnode\u001b[49m\u001b[43m,\u001b[49m\u001b[43m \u001b[49m\u001b[43mflags\u001b[49m\u001b[43m)\u001b[49m\n\u001b[1;32m    388\u001b[0m \u001b[38;5;66;03m# Finally, bind and draw the primitive\u001b[39;00m\n\u001b[1;32m    389\u001b[0m \u001b[38;5;28mself\u001b[39m\u001b[38;5;241m.\u001b[39m_bind_and_draw_primitive(\n\u001b[1;32m    390\u001b[0m     primitive\u001b[38;5;241m=\u001b[39mprimitive,\n\u001b[1;32m    391\u001b[0m     pose\u001b[38;5;241m=\u001b[39mscene\u001b[38;5;241m.\u001b[39mget_pose(node),\n\u001b[1;32m    392\u001b[0m     program\u001b[38;5;241m=\u001b[39mprogram,\n\u001b[1;32m    393\u001b[0m     flags\u001b[38;5;241m=\u001b[39mflags\n\u001b[1;32m    394\u001b[0m )\n",
      "File \u001b[0;32m~/Desktop/Python-URDF-Explorer/.venv/lib/python3.8/site-packages/pyrender/renderer.py:680\u001b[0m, in \u001b[0;36mRenderer._bind_lighting\u001b[0;34m(self, scene, program, node, flags)\u001b[0m\n\u001b[1;32m    677\u001b[0m     program\u001b[38;5;241m.\u001b[39mset_uniform(b \u001b[38;5;241m+\u001b[39m \u001b[38;5;124m'\u001b[39m\u001b[38;5;124mdirection\u001b[39m\u001b[38;5;124m'\u001b[39m, direction)\n\u001b[1;32m    679\u001b[0m program\u001b[38;5;241m.\u001b[39mset_uniform(b \u001b[38;5;241m+\u001b[39m \u001b[38;5;124m'\u001b[39m\u001b[38;5;124mcolor\u001b[39m\u001b[38;5;124m'\u001b[39m, light\u001b[38;5;241m.\u001b[39mcolor)\n\u001b[0;32m--> 680\u001b[0m \u001b[43mprogram\u001b[49m\u001b[38;5;241;43m.\u001b[39;49m\u001b[43mset_uniform\u001b[49m\u001b[43m(\u001b[49m\u001b[43mb\u001b[49m\u001b[43m \u001b[49m\u001b[38;5;241;43m+\u001b[39;49m\u001b[43m \u001b[49m\u001b[38;5;124;43m'\u001b[39;49m\u001b[38;5;124;43mintensity\u001b[39;49m\u001b[38;5;124;43m'\u001b[39;49m\u001b[43m,\u001b[49m\u001b[43m \u001b[49m\u001b[43mlight\u001b[49m\u001b[38;5;241;43m.\u001b[39;49m\u001b[43mintensity\u001b[49m\u001b[43m)\u001b[49m\n\u001b[1;32m    681\u001b[0m \u001b[38;5;66;03m# if light.range is not None:\u001b[39;00m\n\u001b[1;32m    682\u001b[0m \u001b[38;5;66;03m#     program.set_uniform(b + 'range', light.range)\u001b[39;00m\n\u001b[1;32m    683\u001b[0m \u001b[38;5;66;03m# else:\u001b[39;00m\n\u001b[1;32m    684\u001b[0m \u001b[38;5;66;03m#     program.set_uniform(b + 'range', 0)\u001b[39;00m\n\u001b[1;32m    686\u001b[0m \u001b[38;5;28;01mif\u001b[39;00m shadow:\n",
      "File \u001b[0;32m~/Desktop/Python-URDF-Explorer/.venv/lib/python3.8/site-packages/pyrender/shader_program.py:223\u001b[0m, in \u001b[0;36mShaderProgram.set_uniform\u001b[0;34m(self, name, value, unsigned)\u001b[0m\n\u001b[1;32m    220\u001b[0m \u001b[38;5;28;01mif\u001b[39;00m loc \u001b[38;5;241m==\u001b[39m \u001b[38;5;241m-\u001b[39m\u001b[38;5;241m1\u001b[39m:\n\u001b[1;32m    221\u001b[0m     \u001b[38;5;28;01mraise\u001b[39;00m \u001b[38;5;167;01mValueError\u001b[39;00m(\u001b[38;5;124m'\u001b[39m\u001b[38;5;124mInvalid shader variable: \u001b[39m\u001b[38;5;132;01m{}\u001b[39;00m\u001b[38;5;124m'\u001b[39m\u001b[38;5;241m.\u001b[39mformat(name))\n\u001b[0;32m--> 223\u001b[0m \u001b[38;5;28;01mif\u001b[39;00m \u001b[38;5;28;43misinstance\u001b[39;49m\u001b[43m(\u001b[49m\u001b[43mvalue\u001b[49m\u001b[43m,\u001b[49m\u001b[43m \u001b[49m\u001b[43mnp\u001b[49m\u001b[38;5;241;43m.\u001b[39;49m\u001b[43mndarray\u001b[49m\u001b[43m)\u001b[49m:\n\u001b[1;32m    224\u001b[0m     \u001b[38;5;66;03m# DEBUG\u001b[39;00m\n\u001b[1;32m    225\u001b[0m     \u001b[38;5;66;03m# self._unif_map[name] = value.size, value.shape\u001b[39;00m\n\u001b[1;32m    226\u001b[0m     \u001b[38;5;28;01mif\u001b[39;00m value\u001b[38;5;241m.\u001b[39mndim \u001b[38;5;241m==\u001b[39m \u001b[38;5;241m1\u001b[39m:\n\u001b[1;32m    227\u001b[0m         \u001b[38;5;28;01mif\u001b[39;00m (np\u001b[38;5;241m.\u001b[39missubdtype(value\u001b[38;5;241m.\u001b[39mdtype, np\u001b[38;5;241m.\u001b[39munsignedinteger) \u001b[38;5;129;01mor\u001b[39;00m\n\u001b[1;32m    228\u001b[0m                 unsigned):\n",
      "\u001b[0;31mKeyboardInterrupt\u001b[0m: "
     ]
    }
   ],
   "source": [
    "urdf.show()"
   ]
  },
  {
   "cell_type": "code",
   "execution_count": null,
   "metadata": {},
   "outputs": [],
   "source": [
    "render_urdf(\n",
    "    urdf\n",
    ")"
   ]
  },
  {
   "cell_type": "code",
   "execution_count": null,
   "metadata": {},
   "outputs": [],
   "source": []
  },
  {
   "cell_type": "code",
   "execution_count": null,
   "metadata": {},
   "outputs": [],
   "source": []
  },
  {
   "cell_type": "code",
   "execution_count": null,
   "metadata": {},
   "outputs": [],
   "source": []
  },
  {
   "cell_type": "code",
   "execution_count": null,
   "metadata": {},
   "outputs": [],
   "source": [
    "\n",
    "OUTPUT_FILE_PATH = f'{wheel_axle_test_id}.urdf'\n",
    "wheel_axel_test_urdf.save(OUTPUT_FILE_PATH)"
   ]
  },
  {
   "cell_type": "code",
   "execution_count": null,
   "metadata": {},
   "outputs": [],
   "source": [
    "front_steering_columns =  WheelDirectionsDetails(\n",
    "    left=create_steering_column_link(WheelPosition.LEFT_FRONT.name, robot_properties.steering_column),\n",
    "    right=create_steering_column_link(WheelPosition.RIGHT_FRONT.name, robot_properties.steering_column)\n",
    ")"
   ]
  },
  {
   "cell_type": "code",
   "execution_count": null,
   "metadata": {},
   "outputs": [],
   "source": [
    "wheel_axel_test_urdf = URDF(\n",
    "    name='four_wheel_robot',\n",
    "    links=[chassis, wheels[WHEELS_LEFT_FRONT_ID], wheels[WHEEL_RIGHT_FRONT_ID], wheels[WHEEL_LEFT_REAR_ID], wheels[WHEEL_RIGHT_REAR_ID]],\n",
    "    joints=[\n",
    "        Joint(\n",
    "            name='left_front_wheel_joint', \n",
    "            joint_type='revolute', \n",
    "            parent=CHASSIS_ID, \n",
    "            child=WHEELS_LEFT_FRONT_ID,\n",
    "            limit=JointLimit(effort=1.0, velocity=1.0), \n",
    "            origin=xyz_rpy_to_matrix([0.25, 0.25, 0.0, 0, 0, 0])\n",
    "        ),\n",
    "        Joint(\n",
    "            name='right_front_wheel_joint', \n",
    "            joint_type='revolute', \n",
    "            parent=CHASSIS_ID, \n",
    "            child=WHEEL_RIGHT_FRONT_ID,\n",
    "            limit=JointLimit(effort=1.0, velocity=1.0),\n",
    "            origin=xyz_rpy_to_matrix([1, 0.25, 0.0, 0, 0, 0])\n",
    "        ),\n",
    "        Joint(name='left_rear_wheel_joint', joint_type='revolute', parent=CHASSIS_ID, child=left_rear_wheel_id,limit=JointLimit(effort=1.0, velocity=1.0)),\n",
    "        Joint(name='right_rear_wheel_joint', joint_type='revolute', parent=CHASSIS_ID, child=right_rear_wheel_id,limit=JointLimit(effort=1.0, velocity=1.0),),\n",
    "    ]\n",
    ")"
   ]
  },
  {
   "cell_type": "code",
   "execution_count": null,
   "metadata": {},
   "outputs": [],
   "source": [
    "# urdf._to_xml(parent=Element(\"Tag\") ,path='four_wheel_robot.urdf')\n",
    "OUTPUT_FILE_PATH = 'four_wheel_robot.urdf'\n",
    "wheel_axel_test_urdf.save(OUTPUT_FILE_PATH)"
   ]
  },
  {
   "cell_type": "code",
   "execution_count": null,
   "metadata": {},
   "outputs": [],
   "source": [
    "import shutil\n",
    "import subprocess\n",
    "\n",
    "\n",
    "BINARY_NAME = \"urdf-viz\"\n",
    "BINARY_PATH = shutil.which(BINARY_NAME)\n",
    "def run_binary(file_path: str):\n",
    "    process = subprocess.Popen([BINARY_PATH, file_path])\n",
    "\n",
    "run_binary(OUTPUT_FILE_PATH)"
   ]
  },
  {
   "cell_type": "code",
   "execution_count": null,
   "metadata": {},
   "outputs": [],
   "source": []
  }
 ],
 "metadata": {
  "kernelspec": {
   "display_name": ".venv",
   "language": "python",
   "name": "python3"
  },
  "language_info": {
   "codemirror_mode": {
    "name": "ipython",
    "version": 3
   },
   "file_extension": ".py",
   "mimetype": "text/x-python",
   "name": "python",
   "nbconvert_exporter": "python",
   "pygments_lexer": "ipython3",
   "version": "3.8.10"
  }
 },
 "nbformat": 4,
 "nbformat_minor": 2
}
