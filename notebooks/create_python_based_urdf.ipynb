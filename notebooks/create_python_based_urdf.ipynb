{
 "cells": [
  {
   "cell_type": "code",
   "execution_count": 1,
   "metadata": {},
   "outputs": [],
   "source": [
    "import os\n",
    "import sys\n",
    "\n",
    "# Add the root directory for packages\n",
    "notebook_dir = os.getcwd()\n",
    "\n",
    "parent_dir = os.path.dirname(notebook_dir)\n",
    "\n",
    "sys.path.append(parent_dir)\n"
   ]
  },
  {
   "cell_type": "code",
   "execution_count": 2,
   "metadata": {},
   "outputs": [],
   "source": [
    "\n",
    "from urdfpy import URDF, Box, Cylinder, Joint, Link, Material, Collision, Visual, Inertial, Geometry\n"
   ]
  },
  {
   "cell_type": "code",
   "execution_count": 3,
   "metadata": {},
   "outputs": [
    {
     "ename": "TypeError",
     "evalue": "Expected Box type",
     "output_type": "error",
     "traceback": [
      "\u001b[0;31m---------------------------------------------------------------------------\u001b[0m",
      "\u001b[0;31mTypeError\u001b[0m                                 Traceback (most recent call last)",
      "Cell \u001b[0;32mIn[3], line 30\u001b[0m\n\u001b[1;32m     18\u001b[0m     \u001b[38;5;28;01mreturn\u001b[39;00m Link(\n\u001b[1;32m     19\u001b[0m         visuals\u001b[38;5;241m=\u001b[39m[Visual(Geometry(geo), Material(\u001b[38;5;124m'\u001b[39m\u001b[38;5;124mwheel_color\u001b[39m\u001b[38;5;124m'\u001b[39m))],\n\u001b[1;32m     20\u001b[0m         collisions\u001b[38;5;241m=\u001b[39m[Collision(geometry\u001b[38;5;241m=\u001b[39mGeometry(geo), name\u001b[38;5;241m=\u001b[39m\u001b[38;5;124m'\u001b[39m\u001b[38;5;124mwheel_collision\u001b[39m\u001b[38;5;124m'\u001b[39m)],\n\u001b[1;32m     21\u001b[0m         inertial\u001b[38;5;241m=\u001b[39mInertial(\u001b[38;5;241m1.0\u001b[39m, inertia\u001b[38;5;241m=\u001b[39m[\u001b[38;5;241m1.0\u001b[39m, \u001b[38;5;241m1.0\u001b[39m, \u001b[38;5;241m1.0\u001b[39m]),\n\u001b[1;32m     22\u001b[0m         name\u001b[38;5;241m=\u001b[39m\u001b[38;5;124m'\u001b[39m\u001b[38;5;124mwheel\u001b[39m\u001b[38;5;124m'\u001b[39m\n\u001b[1;32m     23\u001b[0m     )\n\u001b[1;32m     28\u001b[0m chassis \u001b[38;5;241m=\u001b[39m create_chassis(length_width_height_m\u001b[38;5;241m=\u001b[39m(\u001b[38;5;241m0.5\u001b[39m, \u001b[38;5;241m0.5\u001b[39m, \u001b[38;5;241m0.5\u001b[39m))\n\u001b[0;32m---> 30\u001b[0m left_front_wheel \u001b[38;5;241m=\u001b[39m \u001b[43mcreate_wheel\u001b[49m\u001b[43m(\u001b[49m\u001b[43m)\u001b[49m\n\u001b[1;32m     31\u001b[0m right_front_wheel \u001b[38;5;241m=\u001b[39m create_wheel()\n\u001b[1;32m     32\u001b[0m left_rear_wheel \u001b[38;5;241m=\u001b[39m create_wheel()\n",
      "Cell \u001b[0;32mIn[3], line 19\u001b[0m, in \u001b[0;36mcreate_wheel\u001b[0;34m(radius_m, thickness_m)\u001b[0m\n\u001b[1;32m     13\u001b[0m \u001b[38;5;28;01mdef\u001b[39;00m \u001b[38;5;21mcreate_wheel\u001b[39m(\n\u001b[1;32m     14\u001b[0m     radius_m: \u001b[38;5;28mfloat\u001b[39m \u001b[38;5;241m=\u001b[39m \u001b[38;5;241m0.1\u001b[39m,\n\u001b[1;32m     15\u001b[0m     thickness_m: \u001b[38;5;28mfloat\u001b[39m \u001b[38;5;241m=\u001b[39m \u001b[38;5;241m0.1\u001b[39m\n\u001b[1;32m     16\u001b[0m ) \u001b[38;5;241m-\u001b[39m\u001b[38;5;241m>\u001b[39m Link:\n\u001b[1;32m     17\u001b[0m     geo \u001b[38;5;241m=\u001b[39m Cylinder(radius_m, thickness_m)\n\u001b[1;32m     18\u001b[0m     \u001b[38;5;28;01mreturn\u001b[39;00m Link(\n\u001b[0;32m---> 19\u001b[0m         visuals\u001b[38;5;241m=\u001b[39m[Visual(\u001b[43mGeometry\u001b[49m\u001b[43m(\u001b[49m\u001b[43mgeo\u001b[49m\u001b[43m)\u001b[49m, Material(\u001b[38;5;124m'\u001b[39m\u001b[38;5;124mwheel_color\u001b[39m\u001b[38;5;124m'\u001b[39m))],\n\u001b[1;32m     20\u001b[0m         collisions\u001b[38;5;241m=\u001b[39m[Collision(geometry\u001b[38;5;241m=\u001b[39mGeometry(geo), name\u001b[38;5;241m=\u001b[39m\u001b[38;5;124m'\u001b[39m\u001b[38;5;124mwheel_collision\u001b[39m\u001b[38;5;124m'\u001b[39m)],\n\u001b[1;32m     21\u001b[0m         inertial\u001b[38;5;241m=\u001b[39mInertial(\u001b[38;5;241m1.0\u001b[39m, inertia\u001b[38;5;241m=\u001b[39m[\u001b[38;5;241m1.0\u001b[39m, \u001b[38;5;241m1.0\u001b[39m, \u001b[38;5;241m1.0\u001b[39m]),\n\u001b[1;32m     22\u001b[0m         name\u001b[38;5;241m=\u001b[39m\u001b[38;5;124m'\u001b[39m\u001b[38;5;124mwheel\u001b[39m\u001b[38;5;124m'\u001b[39m\n\u001b[1;32m     23\u001b[0m     )\n",
      "File \u001b[0;32m~/Desktop/Python-URDF-Explorer/urdfpy/urdf.py:669\u001b[0m, in \u001b[0;36mGeometry.__init__\u001b[0;34m(self, box, cylinder, sphere, mesh)\u001b[0m\n\u001b[1;32m    666\u001b[0m \u001b[38;5;28;01mif\u001b[39;00m (box \u001b[38;5;129;01mis\u001b[39;00m \u001b[38;5;28;01mNone\u001b[39;00m \u001b[38;5;129;01mand\u001b[39;00m cylinder \u001b[38;5;129;01mis\u001b[39;00m \u001b[38;5;28;01mNone\u001b[39;00m \u001b[38;5;129;01mand\u001b[39;00m\n\u001b[1;32m    667\u001b[0m         sphere \u001b[38;5;129;01mis\u001b[39;00m \u001b[38;5;28;01mNone\u001b[39;00m \u001b[38;5;129;01mand\u001b[39;00m mesh \u001b[38;5;129;01mis\u001b[39;00m \u001b[38;5;28;01mNone\u001b[39;00m):\n\u001b[1;32m    668\u001b[0m     \u001b[38;5;28;01mraise\u001b[39;00m \u001b[38;5;167;01mValueError\u001b[39;00m(\u001b[38;5;124m'\u001b[39m\u001b[38;5;124mAt least one geometry element must be set\u001b[39m\u001b[38;5;124m'\u001b[39m)\n\u001b[0;32m--> 669\u001b[0m \u001b[38;5;28;43mself\u001b[39;49m\u001b[38;5;241;43m.\u001b[39;49m\u001b[43mbox\u001b[49m \u001b[38;5;241m=\u001b[39m box\n\u001b[1;32m    670\u001b[0m \u001b[38;5;28mself\u001b[39m\u001b[38;5;241m.\u001b[39mcylinder \u001b[38;5;241m=\u001b[39m cylinder\n\u001b[1;32m    671\u001b[0m \u001b[38;5;28mself\u001b[39m\u001b[38;5;241m.\u001b[39msphere \u001b[38;5;241m=\u001b[39m sphere\n",
      "File \u001b[0;32m~/Desktop/Python-URDF-Explorer/urdfpy/urdf.py:683\u001b[0m, in \u001b[0;36mGeometry.box\u001b[0;34m(self, value)\u001b[0m\n\u001b[1;32m    680\u001b[0m \u001b[38;5;129m@box\u001b[39m\u001b[38;5;241m.\u001b[39msetter\n\u001b[1;32m    681\u001b[0m \u001b[38;5;28;01mdef\u001b[39;00m \u001b[38;5;21mbox\u001b[39m(\u001b[38;5;28mself\u001b[39m, value):\n\u001b[1;32m    682\u001b[0m     \u001b[38;5;28;01mif\u001b[39;00m value \u001b[38;5;129;01mis\u001b[39;00m \u001b[38;5;129;01mnot\u001b[39;00m \u001b[38;5;28;01mNone\u001b[39;00m \u001b[38;5;129;01mand\u001b[39;00m \u001b[38;5;129;01mnot\u001b[39;00m \u001b[38;5;28misinstance\u001b[39m(value, Box):\n\u001b[0;32m--> 683\u001b[0m         \u001b[38;5;28;01mraise\u001b[39;00m \u001b[38;5;167;01mTypeError\u001b[39;00m(\u001b[38;5;124m'\u001b[39m\u001b[38;5;124mExpected Box type\u001b[39m\u001b[38;5;124m'\u001b[39m)\n\u001b[1;32m    684\u001b[0m     \u001b[38;5;28mself\u001b[39m\u001b[38;5;241m.\u001b[39m_box \u001b[38;5;241m=\u001b[39m value\n",
      "\u001b[0;31mTypeError\u001b[0m: Expected Box type"
     ]
    }
   ],
   "source": [
    "from typing import Tuple\n",
    "\n",
    "\n",
    "def create_chassis(length_width_height_m: Tuple[float, float, float] = (0.5, 0.5, 0.5)) -> Link:\n",
    "    geo = Box(length_width_height_m)\n",
    "    return Link(\n",
    "        visuals=[Visual(geometry=Geometry(box=geo), material=Material('chassis_color'))],\n",
    "        collisions=[Collision(geometry=Geometry(geo), name='chassis_collision')],\n",
    "        inertial=Inertial(mass=1.0, inertia=[1.0, 1.0, 1.0]),\n",
    "        name='chassis'\n",
    "    )\n",
    "\n",
    "def create_wheel(\n",
    "    radius_m: float = 0.1,\n",
    "    thickness_m: float = 0.1\n",
    ") -> Link:\n",
    "    geo = Cylinder(radius_m, thickness_m)\n",
    "    return Link(\n",
    "        visuals=[Visual(Geometry(cylinder=geo), Material('wheel_color'))],\n",
    "        collisions=[Collision(geometry=Geometry(geo), name='wheel_collision')],\n",
    "        inertial=Inertial(1.0, inertia=[1.0, 1.0, 1.0]),\n",
    "        name='wheel'\n",
    "    )\n",
    "\n",
    "\n",
    "\n",
    "\n",
    "chassis = create_chassis(length_width_height_m=(0.5, 0.5, 0.5))\n",
    "\n",
    "left_front_wheel = create_wheel()\n",
    "right_front_wheel = create_wheel()\n",
    "left_rear_wheel = create_wheel()\n",
    "right_rear_wheel = create_wheel()\n",
    "\n",
    "\n",
    "\n",
    "urdf = URDF(\n",
    "    name='four_wheel_robot',\n",
    "    links=[chassis, left_front_wheel, right_front_wheel, left_rear_wheel, right_rear_wheel],\n",
    "    joints=[\n",
    "        Joint('left_front_wheel_joint', 'revolute', parent='chassis', child='left_front_wheel', origin=[0.5, 0.5, 0]),\n",
    "        Joint('right_front_wheel_joint', 'revolute', parent='chassis', child='right_front_wheel', origin=[0.5, -0.5, 0]),\n",
    "        Joint('left_rear_wheel_joint', 'revolute', parent='chassis', child='left_rear_wheel', origin=[-0.5, 0.5, 0]),\n",
    "        Joint('right_rear_wheel_joint', 'revolute', parent='chassis', child='right_rear_wheel', origin=[-0.5, -0.5, 0]),\n",
    "    ]\n",
    ")"
   ]
  },
  {
   "cell_type": "code",
   "execution_count": null,
   "metadata": {},
   "outputs": [],
   "source": []
  }
 ],
 "metadata": {
  "kernelspec": {
   "display_name": ".venv",
   "language": "python",
   "name": "python3"
  },
  "language_info": {
   "codemirror_mode": {
    "name": "ipython",
    "version": 3
   },
   "file_extension": ".py",
   "mimetype": "text/x-python",
   "name": "python",
   "nbconvert_exporter": "python",
   "pygments_lexer": "ipython3",
   "version": "3.8.10"
  }
 },
 "nbformat": 4,
 "nbformat_minor": 2
}
