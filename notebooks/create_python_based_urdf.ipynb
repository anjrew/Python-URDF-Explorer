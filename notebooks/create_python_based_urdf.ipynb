{
 "cells": [
  {
   "cell_type": "code",
   "execution_count": 155,
   "metadata": {},
   "outputs": [],
   "source": [
    "import os\n",
    "import sys\n",
    "\n",
    "# Add the root directory for packages\n",
    "notebook_dir = os.getcwd()\n",
    "\n",
    "project_root_dir = os.path.dirname(notebook_dir)\n",
    "\n",
    "sys.path.append(project_root_dir)\n"
   ]
  },
  {
   "cell_type": "code",
   "execution_count": 156,
   "metadata": {},
   "outputs": [],
   "source": [
    "\n",
    "from urdfpy import URDF, Box, Cylinder, Joint, Link, Material, Collision, Visual, Inertial, Geometry\n"
   ]
  },
  {
   "cell_type": "code",
   "execution_count": 157,
   "metadata": {},
   "outputs": [],
   "source": [
    "from typing import Tuple\n",
    "\n",
    "import numpy as np\n",
    "\n",
    "from urdfpy.urdf import JointLimit\n",
    "from urdfpy.utils import xyz_rpy_to_matrix"
   ]
  },
  {
   "cell_type": "code",
   "execution_count": 158,
   "metadata": {},
   "outputs": [],
   "source": [
    "# Get properties via a yaml file\n",
    "from typing import Any, Dict\n",
    "import yaml\n",
    "\n",
    "def load_yaml_properties(file_path) -> Dict[str, Any]:\n",
    "    with open(file_path, 'r') as file:\n",
    "        properties = yaml.safe_load(file)\n",
    "        return properties"
   ]
  },
  {
   "cell_type": "code",
   "execution_count": 159,
   "metadata": {},
   "outputs": [],
   "source": [
    "MODEL_SCALER=10"
   ]
  },
  {
   "cell_type": "code",
   "execution_count": 160,
   "metadata": {},
   "outputs": [],
   "source": [
    "config_path = os.path.join(project_root_dir, 'config', 'config.yaml')"
   ]
  },
  {
   "cell_type": "code",
   "execution_count": 161,
   "metadata": {},
   "outputs": [],
   "source": [
    "properties = load_yaml_properties(config_path)"
   ]
  },
  {
   "cell_type": "code",
   "execution_count": 162,
   "metadata": {},
   "outputs": [],
   "source": [
    "\n",
    "\n",
    "from pydantic import BaseModel, Field\n",
    "from typing import Dict\n",
    "\n",
    "class Angles(BaseModel):\n",
    "    degrees_45: float = Field(..., description=\"45 degrees in radians\")\n",
    "    degrees_90: float = Field(..., description=\"90 degrees in radians\")\n",
    "\n",
    "    \n",
    "class WheelMount(BaseModel):\n",
    "    length_m: float = Field(..., description=\"Vertical height of the mount in meters\")\n",
    "    diameter_m: float = Field(..., description=\"Diameter of the mount in meters\")\n",
    "    mass_kg: float = Field(..., description=\"Mass of the mount in kilograms\")\n",
    "    \n",
    "class Chassis(BaseModel):\n",
    "    length_m: float = Field(..., description=\"Chassis length in meters\")\n",
    "    width_m: float = Field(..., description=\"Chassis width in meters\")\n",
    "    height_m: float = Field(..., description=\"Chassis height in meters\")\n",
    "    mass_kg: float = Field(..., description=\"Chassis mass in kilograms\")\n",
    "    wheelbase: float = Field(..., description=\"Wheelbase in meters\")\n",
    "    wheel_x_offset_from_edge_m: float = Field(..., description=\"Wheel X offset from front and back edge in meters\")\n",
    "    wheel_z_base_offset_m: float = Field(..., description=\"Wheel Z base offset in meters\")\n",
    "    steering_column_y_center_offset_m: float = Field(..., description=\"Steering column Y offset from the side of the chassis in meters\")\n",
    "    wheel_mounts: WheelMount = Field(..., description=\"Details for the wheel mounts properties\")\n",
    "\n",
    "class Wheel(BaseModel):\n",
    "    dimeter_m: float = Field(..., description=\"Wheel diameter in meters\")\n",
    "    width_m: float = Field(..., description=\"Wheel width in meters\")\n",
    "    mass_kg: float = Field(..., description=\"Wheel mass in kilograms\")\n",
    "\n",
    "class Tire(BaseModel):\n",
    "    diameter_m: float = Field(..., description=\"Tire diameter in meters\")\n",
    "    depth_m: float = Field(..., description=\"Tire depth in meters\")\n",
    "    width_m: float = Field(..., description=\"Tire width in meters\")\n",
    "\n",
    "\n",
    "class SteeringColumn(BaseModel):\n",
    "    max_angle_deg: float = Field(..., description=\"Maximum steering angle in degrees\")\n",
    "    effort_Nm: float = Field(..., description=\"Maximum torque that can be applied to the steering column in Newton-meters\")\n",
    "    rads_per_sec: float = Field(..., description=\"Maximum angular velocity of the steering column in radians per second\")\n",
    "    front_camber_deg: float = Field(..., description=\"Camber angle in degrees\")\n",
    "\n",
    "class CarGeometry(BaseModel):\n",
    "    rotational_center_offset_m: float = Field(..., description=\"Rotational center offset in meters\")\n",
    "\n",
    "class LidarBase(BaseModel):\n",
    "    height_m: float = Field(..., description=\"Lidar base height in meters\")\n",
    "    width_m: float = Field(..., description=\"Lidar base width in meters\")\n",
    "\n",
    "class LidarScanner(BaseModel):\n",
    "    diameter_m: float = Field(..., description=\"Lidar scanner diameter in meters\")\n",
    "    height_m: float = Field(..., description=\"Lidar scanner height in meters\")\n",
    "\n",
    "class Lidar(BaseModel):\n",
    "    base: LidarBase\n",
    "    scanner: LidarScanner\n",
    "    weight_kg: float = Field(..., description=\"Lidar weight in kilograms\")\n",
    "\n",
    "class LidarMount(BaseModel):\n",
    "    height_m: float = Field(..., description=\"Lidar mount height in meters\")\n",
    "    width_m: float = Field(..., description=\"Lidar mount width in meters\")\n",
    "    length_offset_m: float = Field(..., description=\"Lidar mount length offset in meters\")\n",
    "    mass_kg: float = Field(..., description=\"Lidar mount mass in kilograms\")\n",
    "\n",
    "class Mounts(BaseModel):\n",
    "    lidar: LidarMount\n",
    "\n",
    "class AxleProperties(BaseModel):\n",
    "    length_m: float = Field(..., description=\"Length of the axle in meters\")\n",
    "    diameter_m: float = Field(..., description=\"Diameter of the axle in meters\")\n",
    "    mass_kg: float = Field(..., description=\"Mass of the axle in kilograms\")\n",
    "    wheel_inset_m: float = Field(..., description=\"For far the wheel is inset from the edge of the axle in meters\")\n",
    "    \n",
    "class Boticar(BaseModel):\n",
    "    chassis: Chassis\n",
    "    wheel: Wheel\n",
    "    axle: AxleProperties\n",
    "    steering_column: SteeringColumn\n",
    "    tire: Tire\n",
    "    geometry: CarGeometry\n",
    "    lidar: Lidar\n",
    "    mounts: Mounts\n"
   ]
  },
  {
   "cell_type": "code",
   "execution_count": 163,
   "metadata": {},
   "outputs": [],
   "source": [
    "robot_properties = Boticar.model_validate(properties[\"boticar\"])"
   ]
  },
  {
   "cell_type": "code",
   "execution_count": 164,
   "metadata": {},
   "outputs": [],
   "source": [
    "class ColorsRgba:\n",
    "    BLACK = (0, 0, 0, 1)\n",
    "    WHITE = (1, 1, 1, 1)\n",
    "    RED = (1, 0, 0, 1)\n",
    "    GREEN = (0, 1, 0, 1)\n",
    "    BLUE = (0, 0, 1, 1)\n",
    "    YELLOW = (1, 1, 0, 1)\n",
    "    CYAN = (0, 1, 1, 1)\n",
    "    MAGENTA = (1, 0, 1, 1)\n",
    "    GREY = (0.5, 0.5, 0.5, 1)  # Medium grey\n",
    "    LIGHT_GREY = (0.75, 0.75, 0.75, 1)\n",
    "    DARK_GREY = (0.25, 0.25, 0.25, 1)\n",
    "    PINK = (1, 0.75, 0.8, 1)"
   ]
  },
  {
   "cell_type": "code",
   "execution_count": 165,
   "metadata": {},
   "outputs": [],
   "source": [
    "\n",
    "from enum import Enum\n",
    "\n",
    "\n",
    "class JointType(str, Enum):\n",
    "    \"\"\"\n",
    "    Enum representing the types of joints used in robotics.\n",
    "    \"\"\"\n",
    "\n",
    "    FIXED = \"fixed\"\n",
    "    \"\"\"\n",
    "    A fixed joint has no degrees of freedom. It rigidly attaches two links together.\n",
    "    Use this for parts that do not move relative to each other.\n",
    "    \"\"\"\n",
    "\n",
    "    REVOLUTE = \"revolute\"\n",
    "    \"\"\"\n",
    "    A revolute joint rotates around a single axis and has a limited range of motion.\n",
    "    It is typically used for hinged joints like elbows or steering mechanisms.\n",
    "    \"\"\"\n",
    "\n",
    "    CONTINUOUS = \"continuous\"\n",
    "    \"\"\"\n",
    "    Similar to a revolute joint, but with no limits on its range of motion.\n",
    "    It can rotate continuously around the axis. Ideal for wheels or continuous rotations.\n",
    "    \"\"\"\n",
    "\n",
    "    PRISMATIC = \"prismatic\"\n",
    "    \"\"\"\n",
    "    A prismatic joint allows for linear motion along a single axis.\n",
    "    It is used for sliding or extending mechanisms, like a piston or linear actuator.\n",
    "    \"\"\"\n",
    "\n",
    "    FLOATING = \"floating\"\n",
    "    \"\"\"\n",
    "    A floating joint allows motion in all 6 degrees of freedom (3 translational, 3 rotational).\n",
    "    It is often used to represent the base link of a free-floating robot.\n",
    "    \"\"\"\n",
    "\n",
    "    PLANAR = \"planar\"\n",
    "    \"\"\"\n",
    "    A planar joint allows motion in a plane perpendicular to the axis.\n",
    "    It has 3 degrees of freedom: two translational and one rotational.\n",
    "    \"\"\"\n",
    "\n",
    "    SPHERICAL = \"spherical\"\n",
    "    \"\"\"\n",
    "    A spherical joint, also known as a ball joint, allows rotation around three axes.\n",
    "    It has 3 rotational degrees of freedom but no translation.\n",
    "    \"\"\""
   ]
  },
  {
   "cell_type": "code",
   "execution_count": 166,
   "metadata": {},
   "outputs": [],
   "source": [
    "from urdfpy.urdf import Sphere\n",
    "\n",
    "def scale_inertia(inertia: np.ndarray, scale_factor: float) -> np.ndarray:\n",
    "    \"\"\"\n",
    "    Scale the 3x3 inertia matrix.\n",
    "    \n",
    "    :param inertia: 3x3 inertia matrix\n",
    "    :param scale_factor: The factor by which to scale the model\n",
    "    :return: Scaled 3x3 inertia matrix\n",
    "    \"\"\"\n",
    "    # Inertia scales with the fifth power of linear dimensions\n",
    "    return inertia * (scale_factor ** 5)\n",
    "\n",
    "def scale_urdf_model(urdf_model: URDF, scale_factor: float) -> URDF:\n",
    "    \"\"\"\n",
    "    Scale an entire URDF model by a given factor.\n",
    "    \n",
    "    :param urdf_model: The original URDF model\n",
    "    :param scale_factor: The factor by which to scale the model\n",
    "    :return: A new, scaled URDF model\n",
    "    \"\"\"\n",
    "    \n",
    "    links=[]\n",
    "    for link in urdf_model.links:\n",
    "        visuals = []\n",
    "        collisions = []\n",
    "        inertial = None        \n",
    "        # Scale visuals\n",
    "        for visual in link.visuals:\n",
    "            scaled_visual = Visual(\n",
    "                geometry=scale_geometry(visual.geometry, scale_factor),\n",
    "                material=visual.material,\n",
    "                origin=visual.origin * scale_factor\n",
    "            )\n",
    "            visuals.append(scaled_visual)\n",
    "        \n",
    "        # Scale collisions (if present)\n",
    "        for collision in link.collisions:\n",
    "            scaled_collision = Collision(\n",
    "                name=collision.name,\n",
    "                geometry=scale_geometry(collision.geometry, scale_factor),\n",
    "                origin=visual.origin * scale_factor\n",
    "            )\n",
    "            collisions.append(scaled_collision)\n",
    "        \n",
    "        # Scale inertial properties\n",
    "        if link.inertial:\n",
    "            scaled_inertial = Inertial(\n",
    "                mass=link.inertial.mass,\n",
    "                origin=visual.origin * scale_factor,\n",
    "                inertia=scale_inertia(link.inertial.inertia, scale_factor)\n",
    "            )\n",
    "            inertial = scaled_inertial\n",
    "        \n",
    "        links.append(\n",
    "            Link(name=link.name, visuals=visuals, collisions=collisions, inertial=inertial)\n",
    "        )\n",
    "    \n",
    "    # Scale joints\n",
    "    joints = []\n",
    "    for joint in urdf_model.joints:\n",
    "        scaled_joint = Joint(\n",
    "            name=joint.name,\n",
    "            joint_type=joint.joint_type,\n",
    "            parent=joint.parent,\n",
    "            child=joint.child,\n",
    "            axis=joint.axis,\n",
    "            origin=joint.origin * scale_factor,\n",
    "            limit=joint.limit,\n",
    "            dynamics=joint.dynamics\n",
    "        )\n",
    "        joints.append(scaled_joint)\n",
    "    return URDF(name=f\"{urdf_model.name}_scaled\", joints=joints, links=links)\n",
    "\n",
    "def scale_geometry(geometry: Geometry, scale_factor: float) -> Geometry:\n",
    "    if isinstance(geometry.box, Box):\n",
    "        geometry.box = Box(size=np.array(geometry.box) * scale_factor)\n",
    "    elif isinstance(geometry.cylinder, Cylinder):\n",
    "        geometry.cylinder = Cylinder(radius=geometry.cylinder.radius * scale_factor, length=geometry.cylinder.length * scale_factor)\n",
    "    elif isinstance(geometry.sphere, Sphere):\n",
    "        geometry.cylinder = Sphere(radius=geometry.sphere.radius * scale_factor)        \n",
    "    return geometry\n",
    "\n"
   ]
  },
  {
   "cell_type": "code",
   "execution_count": 167,
   "metadata": {},
   "outputs": [],
   "source": [
    "\n",
    "class ShapeInertias:\n",
    "\n",
    "    @staticmethod\n",
    "    def get_uniform_box_inertia(mass: float, length_width_height_m: Tuple[float, float, float]) -> np.ndarray:\n",
    "        \"\"\"\n",
    "        Compute the inertia of a uniform box\n",
    "        :param mass: mass of the box\n",
    "        :param size: size of the box (x, y, z)\n",
    "        :return: mass and inertia\n",
    "        \"\"\"\n",
    "        a, b, c = length_width_height_m\n",
    "        return np.array([\n",
    "            [1/12 * mass * (b**2 + c**2), 0, 0],\n",
    "            [0, 1/12 * mass * (a**2 + c**2), 0],\n",
    "            [0, 0, 1/12 * mass * (a**2 + b**2)]\n",
    "        ])\n",
    "        \n",
    "    @staticmethod\n",
    "    def get_uniform_cylinder_inertia(mass: float, radius: float, height: float) -> np.ndarray:\n",
    "        \"\"\"\n",
    "        Compute the inertia of a uniform cylinder\n",
    "        :param mass: mass of the cylinder\n",
    "        :param radius: radius of the cylinder\n",
    "        :param height: height of the cylinder\n",
    "        :return: mass and inertia\n",
    "        \"\"\"\n",
    "        # Moment of inertia for a solid cylinder\n",
    "        Ix_Iy = (1/12) * mass * (3 * radius**2 + height**2)  # about diameter\n",
    "        Iz = (1/2) * mass * radius**2  # about central axis\n",
    "        \n",
    "        return np.array([\n",
    "            [Ix_Iy, 0.0, 0.0],\n",
    "            [0.0, Ix_Iy, 0.0],\n",
    "            [0.0, 0.0, Iz]\n",
    "        ])\n"
   ]
  },
  {
   "cell_type": "code",
   "execution_count": 168,
   "metadata": {},
   "outputs": [],
   "source": [
    "# IDS\n",
    "\n",
    "CHASSIS_ID = 'chassis'\n"
   ]
  },
  {
   "cell_type": "code",
   "execution_count": 169,
   "metadata": {},
   "outputs": [],
   "source": [
    "\n",
    "from urdfpy.urdf import Texture\n",
    "\n",
    "\n",
    "def create_chassis_link(props: Chassis) -> Link:\n",
    "    length_width_height_m = (props.length_m, props.width_m, props.height_m)\n",
    "    geo = Geometry(box=Box(length_width_height_m))\n",
    "    uniform_cuboid_inertia = ShapeInertias.get_uniform_box_inertia(props.mass_kg, length_width_height_m)\n",
    "\n",
    "    return Link(\n",
    "        visuals=[Visual(\n",
    "            geometry=geo,\n",
    "            material=Material('chassis_color', color=ColorsRgba.BLACK)\n",
    "        )],\n",
    "        collisions=[Collision(\n",
    "            geometry=Geometry(box=Box(size=length_width_height_m)),\n",
    "            name='chassis_collision'\n",
    "        )],\n",
    "        inertial=Inertial(mass=props.mass_kg, inertia=uniform_cuboid_inertia),\n",
    "        name=CHASSIS_ID\n",
    "    )\n",
    "\n",
    "def create_wheel_link(\n",
    "    name: str,\n",
    "    props: Wheel\n",
    ") -> Link:\n",
    "    radius_m = props.dimeter_m / 2\n",
    "    geo = Cylinder(radius_m, props.width_m)\n",
    "    inertial_matrix =  ShapeInertias.get_uniform_cylinder_inertia(props.mass_kg, radius_m, props.width_m)\n",
    "    return Link(\n",
    "        visuals=[Visual(Geometry(cylinder=geo), Material('wheel_color', texture=Texture(filename=f\"{project_root_dir}/textures/black-alloy-wheel.png\")))],\n",
    "        collisions=[Collision(geometry=Geometry(cylinder=geo), name='wheel_collision')],\n",
    "        inertial=Inertial(props.mass_kg, inertia=inertial_matrix),\n",
    "        name=name\n",
    "    )\n",
    "    \n",
    "def create_axle_link(position_id: str, axle: AxleProperties) -> Link:\n",
    "    # Create a simple cylindrical link for the axle\n",
    "    axle_radius_m = axle.diameter_m / 2\n",
    "    \n",
    "    geo = create_uniform_cylinder_geometry(axle.length_m, axle_radius_m)\n",
    "    return Link(\n",
    "        name=f\"{position_id}_axle\",\n",
    "        visuals=[Visual(\n",
    "            geometry=geo,\n",
    "            material=Material('axle_color', color=ColorsRgba.GREY)\n",
    "        )],\n",
    "        collisions=[Collision(\n",
    "            geometry=geo,\n",
    "            name=f\"{position_id}_axle_collision\"\n",
    "        )],\n",
    "        inertial=Inertial(\n",
    "            mass=robot_properties.axle.mass_kg,\n",
    "            inertia=ShapeInertias.get_uniform_cylinder_inertia(\n",
    "                axle.mass_kg,\n",
    "                axle_radius_m,\n",
    "                axle.length_m\n",
    "            )\n",
    "        )\n",
    "    )\n",
    "\n",
    "def create_uniform_cylinder_geometry(length_m: float, radius_m: float) -> Geometry:\n",
    "    return Geometry(cylinder=Cylinder(radius=radius_m, length=length_m))\n",
    "\n",
    "def create_wheel_shock_mount_column_link(column_name: str, properties: WheelMount) -> Link:\n",
    "   \n",
    "    radius_m = properties.diameter_m / 2\n",
    "    \n",
    "    geo = create_uniform_cylinder_geometry(properties.length_m, radius_m)\n",
    "    column_name = column_name + \"_shock_mount__column\"\n",
    "    return Link(\n",
    "        name=column_name,\n",
    "        visuals=[Visual(\n",
    "            geometry=geo,\n",
    "            material=Material('shock_mount_column_color', color=ColorsRgba.GREY)\n",
    "        )],\n",
    "        collisions=[Collision(\n",
    "            geometry=geo,\n",
    "            name=f\"{column_name}_collision\"\n",
    "        )],\n",
    "        inertial=Inertial(\n",
    "            mass=robot_properties.axle.mass_kg,\n",
    "            inertia=ShapeInertias.get_uniform_cylinder_inertia(\n",
    "                properties.mass_kg,\n",
    "                radius_m,\n",
    "                properties.length_m\n",
    "            )\n",
    "        ),\n",
    "    )"
   ]
  },
  {
   "cell_type": "code",
   "execution_count": 170,
   "metadata": {},
   "outputs": [],
   "source": [
    "\n",
    "chassis_link = create_chassis_link(robot_properties.chassis)"
   ]
  },
  {
   "cell_type": "code",
   "execution_count": 171,
   "metadata": {},
   "outputs": [],
   "source": [
    "\n",
    "from enum import Enum\n",
    "from typing import Generic, TypeVar\n",
    "from pydantic.generics import GenericModel\n",
    "\n",
    "T = TypeVar('T')\n",
    "\n",
    "class WheelPosition(Enum):\n",
    "    LEFT_FRONT = \"left_front\"\n",
    "    RIGHT_FRONT = \"right_front\"\n",
    "    LEFT_REAR = \"left_rear\"\n",
    "    RIGHT_REAR = \"right_rear\"\n",
    "    \n",
    "\n",
    "class WheelDirectionsDetails(GenericModel, Generic[T]):\n",
    "    left: T\n",
    "    right: T\n",
    "\n",
    "\n",
    "class WheelDetails(GenericModel, Generic[T]):\n",
    "    front: WheelDirectionsDetails[T]\n",
    "    rear: WheelDirectionsDetails[T]"
   ]
  },
  {
   "cell_type": "code",
   "execution_count": 172,
   "metadata": {},
   "outputs": [],
   "source": [
    "wheel_ids = [WheelPosition.LEFT_FRONT, WheelPosition.RIGHT_FRONT, WheelPosition.LEFT_REAR, WheelPosition.RIGHT_REAR]\n"
   ]
  },
  {
   "cell_type": "code",
   "execution_count": 173,
   "metadata": {},
   "outputs": [],
   "source": [
    "wheel_links = WheelDetails(\n",
    "    front=WheelDirectionsDetails(\n",
    "        left=create_wheel_link(WheelPosition.LEFT_FRONT.name, robot_properties.wheel),\n",
    "        right=create_wheel_link(WheelPosition.RIGHT_FRONT.name, robot_properties.wheel)\n",
    "    ),\n",
    "    rear=WheelDirectionsDetails(\n",
    "        left=create_wheel_link(WheelPosition.LEFT_REAR.name, robot_properties.wheel),\n",
    "        right=create_wheel_link(WheelPosition.RIGHT_REAR.name, robot_properties.wheel)\n",
    "    )\n",
    ")"
   ]
  },
  {
   "cell_type": "code",
   "execution_count": 174,
   "metadata": {},
   "outputs": [],
   "source": [
    "axle_links = WheelDetails(\n",
    "    front=WheelDirectionsDetails(\n",
    "        left=create_axle_link(WheelPosition.LEFT_FRONT.name, robot_properties.axle),\n",
    "        right=create_axle_link(WheelPosition.RIGHT_FRONT.name, robot_properties.axle)\n",
    "    ),\n",
    "    rear=WheelDirectionsDetails(\n",
    "        left=create_axle_link(WheelPosition.LEFT_REAR.name, robot_properties.axle),\n",
    "        right=create_axle_link(WheelPosition.RIGHT_REAR.name, robot_properties.axle)\n",
    "    )\n",
    ")"
   ]
  },
  {
   "cell_type": "code",
   "execution_count": 175,
   "metadata": {},
   "outputs": [],
   "source": [
    "front_steering_columns = WheelDirectionsDetails(\n",
    "    left=create_wheel_shock_mount_column_link(WheelPosition.LEFT_FRONT.name, robot_properties.chassis.wheel_mounts),\n",
    "    right=create_wheel_shock_mount_column_link(WheelPosition.RIGHT_FRONT.name, robot_properties.chassis.wheel_mounts)\n",
    ")\n",
    "    "
   ]
  },
  {
   "cell_type": "code",
   "execution_count": 176,
   "metadata": {},
   "outputs": [],
   "source": [
    "\n",
    "# Try joining one wheel to one axle\n",
    "from scripts.models import ControlledJoint, HardwareInterfaceType, TransmissionType\n",
    "from urdfpy.urdf import Actuator, Transmission\n",
    "\n",
    "\n",
    "def create_wheel_axle_joint(wheel_id: str, axle_id: str) -> ControlledJoint:\n",
    "    difference_between_wheel_and_axle = robot_properties.axle.length_m - robot_properties.wheel.width_m\n",
    "    center_position_on_axle = difference_between_wheel_and_axle / 2 - robot_properties.axle.wheel_inset_m\n",
    "    print(f\"Creating joint from {axle_id} to {wheel_id}\")\n",
    "    joint_name = f\"{wheel_id}_to_{axle_id}_joint\"\n",
    "    return ControlledJoint(\n",
    "            joint=Joint(\n",
    "            name=joint_name,\n",
    "            joint_type=JointType.CONTINUOUS.value,\n",
    "            parent=axle_id,\n",
    "            child=wheel_id,\n",
    "            axis=[0, 0, 1], # Rotate around the z-axis\n",
    "            origin=xyz_rpy_to_matrix([0, 0, center_position_on_axle, 0, 0, 0]),\n",
    "            \n",
    "        ),\n",
    "        transmission=Transmission(\n",
    "                name=f\"{joint_name}_transmission\",\n",
    "                trans_type=TransmissionType.SIMPLE.value,\n",
    "                actuators=[\n",
    "                    Actuator(\n",
    "                        name=f\"{joint_name}_actuator\", \n",
    "                        hardwareInterfaces=[HardwareInterfaceType.VELOCITY_JOINT.value],\n",
    "                        mechanicalReduction=1\n",
    "                        ),\n",
    "                ],\n",
    "            )\n",
    "    )"
   ]
  },
  {
   "cell_type": "code",
   "execution_count": 177,
   "metadata": {},
   "outputs": [
    {
     "name": "stdout",
     "output_type": "stream",
     "text": [
      "Creating joint from LEFT_FRONT_axle to LEFT_FRONT\n"
     ]
    }
   ],
   "source": [
    "left_front_wheel_controllable_joint = create_wheel_axle_joint(wheel_links.front.left.name, axle_links.front.left.name)"
   ]
  },
  {
   "cell_type": "code",
   "execution_count": 178,
   "metadata": {},
   "outputs": [],
   "source": [
    "wheel_axle_test_id = 'wheel_axle_test'\n",
    "wheel_axel_test_urdf = URDF(\n",
    "    name=wheel_axle_test_id,\n",
    "    links=[wheel_links.front.left, axle_links.front.left],\n",
    "    joints=[left_front_wheel_controllable_joint.joint]\n",
    ")"
   ]
  },
  {
   "cell_type": "code",
   "execution_count": 179,
   "metadata": {},
   "outputs": [],
   "source": [
    "# urdf.show()\n",
    "# wheel_axel_test_urdf.animate(cfg_trajectory={\n",
    "#     left_front_wheel_joint.name : [-np.pi / 4, np.pi / 4],\n",
    "\n",
    "# })"
   ]
  },
  {
   "cell_type": "code",
   "execution_count": 180,
   "metadata": {},
   "outputs": [],
   "source": [
    "import shutil\n",
    "import subprocess\n",
    "\n",
    "def render_urdf(urdf: URDF):\n",
    "    output_file_path = f'{urdf.name}.urdf'\n",
    "    urdf.save(output_file_path)\n",
    "    BINARY_NAME = \"urdf-viz\"\n",
    "    BINARY_PATH = shutil.which(BINARY_NAME)\n",
    "    def run_binary(file_path: str):\n",
    "        process = subprocess.Popen([BINARY_PATH, file_path]) # type: ignore\n",
    "\n",
    "    run_binary(output_file_path)"
   ]
  },
  {
   "cell_type": "code",
   "execution_count": 181,
   "metadata": {},
   "outputs": [],
   "source": [
    "# render_urdf(wheel_axel_test_urdf)"
   ]
  },
  {
   "cell_type": "code",
   "execution_count": 182,
   "metadata": {},
   "outputs": [],
   "source": [
    "# Try joining one wheel to one axle\n",
    "import math\n",
    "\n",
    "\n",
    "def create_axle_column_joint(axle_id: str, column_id: str, axle: AxleProperties) -> Joint:\n",
    "    return Joint(\n",
    "        name=f\"{axle_id}_to_{column_id}_joint\",\n",
    "        joint_type=JointType.FIXED.value,\n",
    "        parent=column_id,\n",
    "        child=axle_id,\n",
    "        axis=[0, 1, 0], # Rotate around the z-axis\n",
    "        origin=xyz_rpy_to_matrix([axle.length_m/2, 0, 0, 0, math.pi/2, 0,])\n",
    "    )"
   ]
  },
  {
   "cell_type": "code",
   "execution_count": 183,
   "metadata": {},
   "outputs": [],
   "source": [
    "left_front_axle_column_joint = create_axle_column_joint(axle_links.front.left.name, front_steering_columns.left.name, robot_properties.axle)"
   ]
  },
  {
   "cell_type": "code",
   "execution_count": 184,
   "metadata": {},
   "outputs": [],
   "source": [
    "font_left_axle_link = axle_links.front.left\n",
    "font_left_steering_link = front_steering_columns.left"
   ]
  },
  {
   "cell_type": "code",
   "execution_count": 185,
   "metadata": {},
   "outputs": [
    {
     "data": {
      "text/plain": [
       "{'_name': 'LEFT_FRONT_axle',\n",
       " '_inertial': <urdfpy.urdf.Inertial at 0x7ff37cf2c2b0>,\n",
       " '_visuals': [<urdfpy.urdf.Visual at 0x7ff37cf2c430>],\n",
       " '_collisions': [<urdfpy.urdf.Collision at 0x7ff37cf2c1f0>],\n",
       " '_collision_mesh': None}"
      ]
     },
     "execution_count": 185,
     "metadata": {},
     "output_type": "execute_result"
    }
   ],
   "source": [
    "vars(font_left_axle_link)"
   ]
  },
  {
   "cell_type": "code",
   "execution_count": 186,
   "metadata": {},
   "outputs": [],
   "source": [
    "# render_urdf(\n",
    "#     scale_urdf_model(URDF(\n",
    "#         name=\"Axle column test\",\n",
    "#         links=[font_left_axle_link, font_left_steering_link],\n",
    "#         joints=[left_front_axle_column_joint]\n",
    "#     ) , 10\n",
    "#     )\n",
    "# )"
   ]
  },
  {
   "cell_type": "code",
   "execution_count": 187,
   "metadata": {},
   "outputs": [],
   "source": [
    "\n",
    "urdf = URDF(\n",
    "        name=\"Axle column test\",\n",
    "        links=[font_left_axle_link, font_left_steering_link],\n",
    "        joints=[left_front_axle_column_joint]\n",
    "    )"
   ]
  },
  {
   "cell_type": "code",
   "execution_count": 188,
   "metadata": {},
   "outputs": [],
   "source": [
    "# urdf.show()\n",
    "# urdf.animate(cfg_trajectory={\n",
    "#     left_front_axle_column_joint.name : [-np.pi / 4, np.pi / 4],\n",
    "\n",
    "# })\n",
    "# render_urdf(\n",
    "#     urdf\n",
    "# )"
   ]
  },
  {
   "cell_type": "code",
   "execution_count": 189,
   "metadata": {},
   "outputs": [],
   "source": [
    "urdf = URDF(\n",
    "        name=\"Steering assembly test\",\n",
    "        links=[font_left_axle_link, font_left_steering_link, wheel_links.front.left],\n",
    "        joints=[left_front_axle_column_joint, left_front_wheel_controllable_joint.joint],\n",
    "        transmissions=[left_front_wheel_controllable_joint.transmission]\n",
    "    )"
   ]
  },
  {
   "cell_type": "code",
   "execution_count": 190,
   "metadata": {},
   "outputs": [],
   "source": [
    "# urdf.show()\n",
    "# urdf.animate(cfg_trajectory={\n",
    "#     left_front_wheel_joint.name : [-np.pi / 4, np.pi / 4],\n",
    "\n",
    "# })"
   ]
  },
  {
   "cell_type": "code",
   "execution_count": 191,
   "metadata": {},
   "outputs": [],
   "source": [
    "\n",
    "# Try joining one wheel to one axle\n",
    "import math\n",
    "\n",
    "\n",
    "def create_steering_column_chassis_joint(\n",
    "    chassis_id: str, \n",
    "    column_id: str, \n",
    "    steering_column: SteeringColumn, \n",
    "    xyz_rpy_mount: Tuple[float, float, float, float, float, float]\n",
    ") -> ControlledJoint:\n",
    "    joint_name = f\"{chassis_id}_to_{column_id}_joint\"\n",
    "    return ControlledJoint(\n",
    "        joint=Joint(\n",
    "            name=joint_name,\n",
    "            joint_type=JointType.REVOLUTE.value,\n",
    "            parent=chassis_id,\n",
    "            child=column_id,\n",
    "            limit=JointLimit(\n",
    "                lower=-math.radians(steering_column.max_angle_deg),\n",
    "                upper=math.radians(steering_column.max_angle_deg),\n",
    "                effort=steering_column.effort_Nm,\n",
    "                velocity=steering_column.rads_per_sec\n",
    "            ),\n",
    "            axis=[0, 0, 1], # Rotate around the z-axis\n",
    "            origin=xyz_rpy_to_matrix(xyz_rpy_mount)\n",
    "        ),\n",
    "        transmission=Transmission(\n",
    "            name=f\"{joint_name}_transmission\",\n",
    "            trans_type=TransmissionType.SIMPLE.value,\n",
    "            actuators=[\n",
    "                Actuator(\n",
    "                    name=f\"{joint_name}_actuator\", \n",
    "                    hardwareInterfaces=[HardwareInterfaceType.POSITION_JOINT.value],\n",
    "                    mechanicalReduction=1\n",
    "                    ),\n",
    "            ],\n",
    "        )\n",
    "    )\n",
    "    \n",
    "def create_fixed_column_chassis_joint(chassis_id: str, column_id: str, xyz_rpy_mount: Tuple[float, float, float, float, float, float]) -> Joint:\n",
    "    return Joint(\n",
    "        name=f\"{chassis_id}_to_{column_id}_joint\",\n",
    "        joint_type=JointType.FIXED.value,\n",
    "        parent=chassis_id,\n",
    "        child=column_id,\n",
    "        origin=xyz_rpy_to_matrix(xyz_rpy_mount)\n",
    "    )"
   ]
  },
  {
   "cell_type": "code",
   "execution_count": 192,
   "metadata": {},
   "outputs": [],
   "source": [
    "\n",
    "# You can create a similar joint for the right front wheel\n",
    "# front_right_assembly_xyz_r_mount = (\n",
    "#     robot_properties.chassis.wheelbase / 2,\n",
    "#     -robot_properties.chassis.wheel_x_offset_from_edge_m,  # Note the negative y value\n",
    "#     robot_properties.chassis.wheel_z_base_offset_m,\n",
    "#     math.pi/2\n",
    "# )\n",
    "front_wheel_x_m_distance_from_chassis_center = robot_properties.chassis.wheelbase / 2\n",
    "wheel_z_value_from_chassis_center = -robot_properties.chassis.wheel_z_base_offset_m\n",
    "\n",
    "front_left_assembly_xyz_r_mount = (\n",
    "    front_wheel_x_m_distance_from_chassis_center, # x\n",
    "    robot_properties.chassis.steering_column_y_center_offset_m, # y\n",
    "    wheel_z_value_from_chassis_center, # z\n",
    "    0, 0,math.pi/2\n",
    ")\n",
    "\n",
    "left_front_column_chassis_controllable_joint = create_steering_column_chassis_joint(chassis_link.name,  front_steering_columns.left.name, robot_properties.steering_column, front_left_assembly_xyz_r_mount)\n",
    "\n"
   ]
  },
  {
   "cell_type": "code",
   "execution_count": 193,
   "metadata": {},
   "outputs": [],
   "source": [
    "# urdf = URDF(\n",
    "#         name=\"Chassis with left steering assembly_test\",\n",
    "#         links=[font_left_axle_link, font_left_steering_link, wheel_links.front.left, chassis_link],\n",
    "#         joints=[left_front_axle_column_joint, left_front_wheel_joint, left_front_column_chassis_joint]\n",
    "#     )"
   ]
  },
  {
   "cell_type": "code",
   "execution_count": 194,
   "metadata": {},
   "outputs": [],
   "source": [
    "# urdf.show()\n",
    "# urdf.animate(cfg_trajectory={\n",
    "#     left_front_wheel_joint.name : [-math.pi / 4, math.pi / 4],    \n",
    "#     # left_front_column_chassis_joint:[-math.pi / 4, math.pi / 4],\n",
    "# })\n",
    "# render_urdf(\n",
    "#     urdf\n",
    "# )"
   ]
  },
  {
   "cell_type": "code",
   "execution_count": 195,
   "metadata": {},
   "outputs": [
    {
     "name": "stdout",
     "output_type": "stream",
     "text": [
      "Creating joint from RIGHT_FRONT_axle to RIGHT_FRONT\n"
     ]
    }
   ],
   "source": [
    "front_right_axle_link = axle_links.front.right\n",
    "front_right_steering_link = front_steering_columns.right\n",
    "right_front_controllable_wheel_joint = create_wheel_axle_joint(wheel_links.front.right.name, axle_links.front.right.name)\n",
    "right_front_axle_column_joint = create_axle_column_joint(axle_links.front.right.name, front_steering_columns.right.name, robot_properties.axle)\n",
    "front_right_assembly_xyz_rpy_mount = (\n",
    "    front_wheel_x_m_distance_from_chassis_center, # x\n",
    "    -robot_properties.chassis.steering_column_y_center_offset_m, # y\n",
    "    wheel_z_value_from_chassis_center, # z\n",
    "    0,\n",
    "    0,\n",
    "    math.radians(270) \n",
    ")\n",
    "right_front_column_chassis_controllable_joint = create_steering_column_chassis_joint(chassis_link.name,  front_steering_columns.right.name, robot_properties.steering_column, front_right_assembly_xyz_rpy_mount)"
   ]
  },
  {
   "cell_type": "code",
   "execution_count": 196,
   "metadata": {},
   "outputs": [],
   "source": [
    "left_front_steering_assembly_links = (font_left_axle_link, font_left_steering_link, wheel_links.front.left)\n",
    "left_front_joints = left_front_axle_column_joint, left_front_wheel_controllable_joint.joint, left_front_column_chassis_controllable_joint.joint\n",
    "\n",
    "right_front_steering_assembly_links = (front_right_axle_link, front_right_steering_link, wheel_links.front.right)\n",
    "right_front_joints = right_front_axle_column_joint, right_front_controllable_wheel_joint.joint, right_front_column_chassis_controllable_joint.joint\n",
    "\n",
    "urdf = URDF(\n",
    "        name=\"Chassis with left and right steering assembly_test\",\n",
    "        links=[*right_front_steering_assembly_links ,*left_front_steering_assembly_links, chassis_link],\n",
    "        joints=[*right_front_joints, *left_front_joints],\n",
    "        transmissions=[\n",
    "            right_front_controllable_wheel_joint.transmission, \n",
    "            left_front_wheel_controllable_joint.transmission,\n",
    "            left_front_column_chassis_controllable_joint.transmission,\n",
    "            right_front_column_chassis_controllable_joint.transmission\n",
    "        ]\n",
    "    )"
   ]
  },
  {
   "cell_type": "code",
   "execution_count": 197,
   "metadata": {},
   "outputs": [],
   "source": [
    "# urdf.show()\n",
    "# urdf.animate(cfg_trajectory={\n",
    "#     left_front_wheel_controllable_joint.joint.name : [-math.pi / 4, math.pi / 4],    \n",
    "#     left_front_column_chassis_joint:[-math.pi / 4, math.pi / 4],\n",
    "#     right_front_controllable_wheel_joint.joint.name : [-math.pi / 4, math.pi / 4],    \n",
    "#     right_front_column_chassis_joint:[-math.pi / 4, math.pi / 4],\n",
    "# })\n",
    "# render_urdf(\n",
    "#     urdf\n",
    "# )"
   ]
  },
  {
   "cell_type": "markdown",
   "metadata": {},
   "source": [
    "# Create rear assemblies"
   ]
  },
  {
   "cell_type": "code",
   "execution_count": 198,
   "metadata": {},
   "outputs": [],
   "source": [
    "rear_wheel_x_m_distance_from_chassis_center = robot_properties.chassis.wheelbase / 2"
   ]
  },
  {
   "cell_type": "code",
   "execution_count": 199,
   "metadata": {},
   "outputs": [],
   "source": [
    "rear_shock_columns = WheelDirectionsDetails(\n",
    "    left=create_wheel_shock_mount_column_link(WheelPosition.LEFT_REAR.name, robot_properties.chassis.wheel_mounts),\n",
    "    right=create_wheel_shock_mount_column_link(WheelPosition.RIGHT_REAR.name, robot_properties.chassis.wheel_mounts),\n",
    ")"
   ]
  },
  {
   "cell_type": "code",
   "execution_count": 200,
   "metadata": {},
   "outputs": [
    {
     "name": "stdout",
     "output_type": "stream",
     "text": [
      "Creating joint from LEFT_REAR_axle to LEFT_REAR\n",
      "Creating joint from RIGHT_REAR_axle to RIGHT_REAR\n"
     ]
    },
    {
     "data": {
      "text/plain": [
       "'LEFT_REAR_axle'"
      ]
     },
     "execution_count": 200,
     "metadata": {},
     "output_type": "execute_result"
    }
   ],
   "source": [
    "\n",
    "rear_axel_controllable_joints = WheelDirectionsDetails(\n",
    "    left=create_wheel_axle_joint(wheel_links.rear.left.name, axle_links.rear.left.name),\n",
    "    right=create_wheel_axle_joint(wheel_links.rear.right.name, axle_links.rear.right.name)\n",
    ")\n",
    "rear_axel_controllable_joints.left.joint.parent"
   ]
  },
  {
   "cell_type": "code",
   "execution_count": 201,
   "metadata": {},
   "outputs": [],
   "source": [
    "rear_axle_column_joint = WheelDirectionsDetails(\n",
    "    left=create_axle_column_joint(axle_links.rear.left.name, rear_shock_columns.left.name, robot_properties.axle),\n",
    "    right=create_axle_column_joint(axle_links.rear.right.name, rear_shock_columns.right.name, robot_properties.axle)\n",
    ")"
   ]
  },
  {
   "cell_type": "code",
   "execution_count": 202,
   "metadata": {},
   "outputs": [],
   "source": [
    "rear_left_assembly_xyz_rpy_mount = (\n",
    "    -front_wheel_x_m_distance_from_chassis_center, # x\n",
    "    robot_properties.chassis.steering_column_y_center_offset_m, # y\n",
    "    wheel_z_value_from_chassis_center, # z\n",
    "    0,\n",
    "    0, \n",
    "    math.radians(90)\n",
    ")\n",
    "\n",
    "rear_right_assembly_xyz_rpy_mount = (\n",
    "    -front_wheel_x_m_distance_from_chassis_center, # x\n",
    "    -robot_properties.chassis.steering_column_y_center_offset_m, # y\n",
    "    wheel_z_value_from_chassis_center, # z\n",
    "    0,\n",
    "    0, \n",
    "    math.radians(270)\n",
    ")"
   ]
  },
  {
   "cell_type": "code",
   "execution_count": 203,
   "metadata": {},
   "outputs": [],
   "source": [
    "rear_chassis_joints = WheelDirectionsDetails(\n",
    "    left=create_fixed_column_chassis_joint(CHASSIS_ID, rear_shock_columns.left.name, rear_left_assembly_xyz_rpy_mount),\n",
    "    right=create_fixed_column_chassis_joint(CHASSIS_ID, rear_shock_columns.right.name, rear_right_assembly_xyz_rpy_mount)\n",
    ")    "
   ]
  },
  {
   "cell_type": "code",
   "execution_count": 204,
   "metadata": {},
   "outputs": [],
   "source": [
    "right_rear_steering_assembly_links = (wheel_links.rear.right, axle_links.rear.right, rear_shock_columns.right)\n",
    "left_rear_steering_assembly_links = (wheel_links.rear.left, axle_links.rear.left, rear_shock_columns.left)\n",
    "right_rear_joints = (rear_chassis_joints.right, rear_axel_controllable_joints.right.joint, rear_axle_column_joint.right)\n",
    "left_rear_joints = (rear_chassis_joints.left, rear_axel_controllable_joints.left.joint, rear_axle_column_joint.left)"
   ]
  },
  {
   "cell_type": "code",
   "execution_count": 205,
   "metadata": {},
   "outputs": [
    {
     "name": "stdout",
     "output_type": "stream",
     "text": [
      "RIGHT_FRONT_axle\n",
      "RIGHT_FRONT_shock_mount__column\n",
      "RIGHT_FRONT\n",
      "LEFT_FRONT_axle\n",
      "LEFT_FRONT_shock_mount__column\n",
      "LEFT_FRONT\n",
      "RIGHT_REAR\n",
      "RIGHT_REAR_axle\n",
      "RIGHT_REAR_shock_mount__column\n",
      "LEFT_REAR\n",
      "LEFT_REAR_axle\n",
      "LEFT_REAR_shock_mount__column\n",
      "chassis\n"
     ]
    }
   ],
   "source": [
    "\n",
    "links = [*right_front_steering_assembly_links ,*left_front_steering_assembly_links, *right_rear_steering_assembly_links, *left_rear_steering_assembly_links,chassis_link]\n",
    "for link in links:\n",
    "    print(link.name)\n"
   ]
  },
  {
   "cell_type": "code",
   "execution_count": 206,
   "metadata": {},
   "outputs": [
    {
     "name": "stdout",
     "output_type": "stream",
     "text": [
      "RIGHT_FRONT_axle_to_RIGHT_FRONT_shock_mount__column_joint\n",
      "RIGHT_FRONT_to_RIGHT_FRONT_axle_joint\n",
      "chassis_to_RIGHT_FRONT_shock_mount__column_joint\n",
      "LEFT_FRONT_axle_to_LEFT_FRONT_shock_mount__column_joint\n",
      "LEFT_FRONT_to_LEFT_FRONT_axle_joint\n",
      "chassis_to_LEFT_FRONT_shock_mount__column_joint\n"
     ]
    }
   ],
   "source": [
    "front_joints=  [*right_front_joints, *left_front_joints]\n",
    "for joint in front_joints:\n",
    "    print(joint.name)"
   ]
  },
  {
   "cell_type": "code",
   "execution_count": 207,
   "metadata": {},
   "outputs": [
    {
     "name": "stdout",
     "output_type": "stream",
     "text": [
      "<urdfpy.urdf.Joint object at 0x7ff37ad85a30>\n",
      "<urdfpy.urdf.Joint object at 0x7ff37ad85970>\n",
      "<urdfpy.urdf.Joint object at 0x7ff37aae23a0>\n",
      "<urdfpy.urdf.Joint object at 0x7ff37ad85b20>\n",
      "<urdfpy.urdf.Joint object at 0x7ff37cf1e1f0>\n",
      "<urdfpy.urdf.Joint object at 0x7ff37aae26a0>\n"
     ]
    }
   ],
   "source": [
    "rear_joints = [*right_rear_joints, *left_rear_joints]\n",
    "for joint in rear_joints:\n",
    "    print(joint)"
   ]
  },
  {
   "cell_type": "code",
   "execution_count": 208,
   "metadata": {},
   "outputs": [
    {
     "name": "stdout",
     "output_type": "stream",
     "text": [
      "RIGHT_FRONT_axle_to_RIGHT_FRONT_shock_mount__column_joint\n",
      "RIGHT_FRONT_to_RIGHT_FRONT_axle_joint\n",
      "chassis_to_RIGHT_FRONT_shock_mount__column_joint\n",
      "LEFT_FRONT_axle_to_LEFT_FRONT_shock_mount__column_joint\n",
      "LEFT_FRONT_to_LEFT_FRONT_axle_joint\n",
      "chassis_to_LEFT_FRONT_shock_mount__column_joint\n",
      "chassis_to_RIGHT_REAR_shock_mount__column_joint\n",
      "RIGHT_REAR_to_RIGHT_REAR_axle_joint\n",
      "RIGHT_REAR_axle_to_RIGHT_REAR_shock_mount__column_joint\n",
      "chassis_to_LEFT_REAR_shock_mount__column_joint\n",
      "LEFT_REAR_to_LEFT_REAR_axle_joint\n",
      "LEFT_REAR_axle_to_LEFT_REAR_shock_mount__column_joint\n"
     ]
    }
   ],
   "source": [
    "joints = [ *front_joints, *rear_joints]\n",
    "for joint in joints:\n",
    "    print(joint.name)"
   ]
  },
  {
   "cell_type": "code",
   "execution_count": 209,
   "metadata": {},
   "outputs": [],
   "source": [
    "urdf = URDF(\n",
    "        name=\"Chassis with left and right steering assembly_test\",\n",
    "        links=links,\n",
    "        joints=joints,\n",
    "        transmissions=[\n",
    "            right_front_controllable_wheel_joint.transmission, \n",
    "            left_front_wheel_controllable_joint.transmission,\n",
    "            left_front_column_chassis_controllable_joint.transmission,\n",
    "            right_front_column_chassis_controllable_joint.transmission,\n",
    "            rear_axel_controllable_joints.right.transmission,\n",
    "            rear_axel_controllable_joints.left.transmission,\n",
    "        ]\n",
    "    )"
   ]
  },
  {
   "cell_type": "code",
   "execution_count": 210,
   "metadata": {},
   "outputs": [],
   "source": [
    "# urdf.show()\n",
    "urdf.animate(cfg_trajectory={\n",
    "    left_front_wheel_controllable_joint.joint.name : [-math.pi / 4, math.pi / 4],    \n",
    "    left_front_column_chassis_controllable_joint.joint:[-math.pi / 4, math.pi / 4],\n",
    "    right_front_controllable_wheel_joint.joint.name : [-math.pi / 4, math.pi / 4],    \n",
    "    right_front_column_chassis_controllable_joint.joint:[-math.pi / 4, math.pi / 4],\n",
    "    rear_axel_controllable_joints.left.joint.name : [-math.pi / 4, math.pi / 4],\n",
    "    rear_axel_controllable_joints.right.joint.name:[-math.pi / 4, math.pi / 4], \n",
    "})\n",
    "# render_urdf(\n",
    "#     urdf\n",
    "# )\n",
    "urdf.save(\"boticar.urdf\")"
   ]
  },
  {
   "cell_type": "code",
   "execution_count": 211,
   "metadata": {},
   "outputs": [],
   "source": [
    "from dataclasses import dataclass\n",
    "\n",
    "\n",
    "@dataclass\n",
    "class WheelAssembly:\n",
    "    wheel: Link\n",
    "    axle: Link\n",
    "    steering_column: Link\n",
    "    wheel_axle_joint: Joint\n",
    "    axle_column_joint: Joint\n",
    "    column_chassis_joint: Joint"
   ]
  },
  {
   "cell_type": "code",
   "execution_count": null,
   "metadata": {},
   "outputs": [],
   "source": []
  }
 ],
 "metadata": {
  "kernelspec": {
   "display_name": ".venv",
   "language": "python",
   "name": "python3"
  },
  "language_info": {
   "codemirror_mode": {
    "name": "ipython",
    "version": 3
   },
   "file_extension": ".py",
   "mimetype": "text/x-python",
   "name": "python",
   "nbconvert_exporter": "python",
   "pygments_lexer": "ipython3",
   "version": "3.8.10"
  }
 },
 "nbformat": 4,
 "nbformat_minor": 2
}
