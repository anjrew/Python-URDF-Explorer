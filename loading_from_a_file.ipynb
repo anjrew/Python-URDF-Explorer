{
 "cells": [
  {
   "cell_type": "code",
   "execution_count": 2,
   "metadata": {},
   "outputs": [],
   "source": [
    "from urdfpy import URDF, Box, Cylinder, Sphere, Mesh, Joint, Link, Material, Collision, Visual, Inertial\n",
    "\n",
    "# robot = URDF.load('../data/wheel_model.xacro')"
   ]
  },
  {
   "cell_type": "code",
   "execution_count": 12,
   "metadata": {},
   "outputs": [
    {
     "data": {
      "text/plain": [
       "'/home/aj/Desktop/Python-URDF-Explorer/data/wheel_model.urdf'"
      ]
     },
     "execution_count": 12,
     "metadata": {},
     "output_type": "execute_result"
    }
   ],
   "source": [
    "import os\n",
    "\n",
    "\n",
    "project_root = os.getcwd()\n",
    "model_path = os.path.join(project_root, 'data', 'wheel_model.urdf')\n",
    "model_path"
   ]
  },
  {
   "cell_type": "code",
   "execution_count": 13,
   "metadata": {},
   "outputs": [
    {
     "data": {
      "text/plain": [
       "<urdfpy.urdf.URDF at 0x7f249415c6d0>"
      ]
     },
     "execution_count": 13,
     "metadata": {},
     "output_type": "execute_result"
    }
   ],
   "source": [
    "wheel_xacro = URDF.load(model_path)\n",
    "wheel_xacro"
   ]
  },
  {
   "cell_type": "code",
   "execution_count": null,
   "metadata": {},
   "outputs": [],
   "source": [
    "urdf."
   ]
  },
  {
   "cell_type": "code",
   "execution_count": 3,
   "metadata": {},
   "outputs": [
    {
     "ename": "TypeError",
     "evalue": "Must set geometry with Geometry object",
     "output_type": "error",
     "traceback": [
      "\u001b[0;31m---------------------------------------------------------------------------\u001b[0m",
      "\u001b[0;31mTypeError\u001b[0m                                 Traceback (most recent call last)",
      "Cell \u001b[0;32mIn[3], line 22\u001b[0m\n\u001b[1;32m     16\u001b[0m \u001b[38;5;28;01mdef\u001b[39;00m \u001b[38;5;21mcreate_wheel\u001b[39m(\n\u001b[1;32m     17\u001b[0m     radius_m: \u001b[38;5;28mfloat\u001b[39m \u001b[38;5;241m=\u001b[39m \u001b[38;5;241m0.1\u001b[39m,\n\u001b[1;32m     18\u001b[0m     thickness_m: \u001b[38;5;28mfloat\u001b[39m \u001b[38;5;241m=\u001b[39m \u001b[38;5;241m0.1\u001b[39m\n\u001b[1;32m     19\u001b[0m ) \u001b[38;5;241m-\u001b[39m\u001b[38;5;241m>\u001b[39m Cylinder:\n\u001b[1;32m     20\u001b[0m     \u001b[38;5;28;01mreturn\u001b[39;00m Cylinder(radius_m, thickness_m)\n\u001b[0;32m---> 22\u001b[0m chassis \u001b[38;5;241m=\u001b[39m \u001b[43mcreate_chassis\u001b[49m\u001b[43m(\u001b[49m\u001b[43m)\u001b[49m\n\u001b[1;32m     25\u001b[0m chassis_to_left_front_wheel \u001b[38;5;241m=\u001b[39m Joint(\u001b[38;5;124m'\u001b[39m\u001b[38;5;124mchassis_to_left_front_wheel\u001b[39m\u001b[38;5;124m'\u001b[39m, \u001b[38;5;124m'\u001b[39m\u001b[38;5;124mfixed\u001b[39m\u001b[38;5;124m'\u001b[39m)\n\u001b[1;32m     26\u001b[0m left_front_wheel \u001b[38;5;241m=\u001b[39m create_wheel()\n",
      "Cell \u001b[0;32mIn[3], line 7\u001b[0m, in \u001b[0;36mcreate_chassis\u001b[0;34m(length_width_height_m)\u001b[0m\n\u001b[1;32m      4\u001b[0m \u001b[38;5;28;01mdef\u001b[39;00m \u001b[38;5;21mcreate_chassis\u001b[39m(length_width_height_m: Tuple[\u001b[38;5;28mfloat\u001b[39m, \u001b[38;5;28mfloat\u001b[39m, \u001b[38;5;28mfloat\u001b[39m] \u001b[38;5;241m=\u001b[39m (\u001b[38;5;241m0.5\u001b[39m, \u001b[38;5;241m0.5\u001b[39m, \u001b[38;5;241m0.5\u001b[39m)) \u001b[38;5;241m-\u001b[39m\u001b[38;5;241m>\u001b[39m Link:\n\u001b[1;32m      5\u001b[0m     geo \u001b[38;5;241m=\u001b[39m Box(length_width_height_m)\n\u001b[1;32m      6\u001b[0m     \u001b[38;5;28;01mreturn\u001b[39;00m Link(\n\u001b[0;32m----> 7\u001b[0m         visuals\u001b[38;5;241m=\u001b[39m[\u001b[43mVisual\u001b[49m\u001b[43m(\u001b[49m\u001b[43mgeo\u001b[49m\u001b[43m,\u001b[49m\u001b[43m \u001b[49m\u001b[43mMaterial\u001b[49m\u001b[43m(\u001b[49m\u001b[38;5;124;43m'\u001b[39;49m\u001b[38;5;124;43mchassis_color\u001b[39;49m\u001b[38;5;124;43m'\u001b[39;49m\u001b[43m)\u001b[49m\u001b[43m)\u001b[49m],\n\u001b[1;32m      8\u001b[0m         collisions\u001b[38;5;241m=\u001b[39m[Collision(geo)],\n\u001b[1;32m      9\u001b[0m         inertial\u001b[38;5;241m=\u001b[39mInertial(\u001b[38;5;241m1.0\u001b[39m, geo),\n\u001b[1;32m     10\u001b[0m         name\u001b[38;5;241m=\u001b[39m\u001b[38;5;124m'\u001b[39m\u001b[38;5;124mchassis\u001b[39m\u001b[38;5;124m'\u001b[39m\n\u001b[1;32m     11\u001b[0m     )\n",
      "File \u001b[0;32m~/Desktop/Python-URDF-Explorer/urdfpy/urdf.py:1092\u001b[0m, in \u001b[0;36mVisual.__init__\u001b[0;34m(self, geometry, name, origin, material)\u001b[0m\n\u001b[1;32m   1091\u001b[0m \u001b[38;5;28;01mdef\u001b[39;00m \u001b[38;5;21m__init__\u001b[39m(\u001b[38;5;28mself\u001b[39m, geometry, name\u001b[38;5;241m=\u001b[39m\u001b[38;5;28;01mNone\u001b[39;00m, origin\u001b[38;5;241m=\u001b[39m\u001b[38;5;28;01mNone\u001b[39;00m, material\u001b[38;5;241m=\u001b[39m\u001b[38;5;28;01mNone\u001b[39;00m):\n\u001b[0;32m-> 1092\u001b[0m     \u001b[38;5;28;43mself\u001b[39;49m\u001b[38;5;241;43m.\u001b[39;49m\u001b[43mgeometry\u001b[49m \u001b[38;5;241m=\u001b[39m geometry\n\u001b[1;32m   1093\u001b[0m     \u001b[38;5;28mself\u001b[39m\u001b[38;5;241m.\u001b[39mname \u001b[38;5;241m=\u001b[39m name\n\u001b[1;32m   1094\u001b[0m     \u001b[38;5;28mself\u001b[39m\u001b[38;5;241m.\u001b[39morigin \u001b[38;5;241m=\u001b[39m origin\n",
      "File \u001b[0;32m~/Desktop/Python-URDF-Explorer/urdfpy/urdf.py:1106\u001b[0m, in \u001b[0;36mVisual.geometry\u001b[0;34m(self, value)\u001b[0m\n\u001b[1;32m   1103\u001b[0m \u001b[38;5;129m@geometry\u001b[39m\u001b[38;5;241m.\u001b[39msetter\n\u001b[1;32m   1104\u001b[0m \u001b[38;5;28;01mdef\u001b[39;00m \u001b[38;5;21mgeometry\u001b[39m(\u001b[38;5;28mself\u001b[39m, value):\n\u001b[1;32m   1105\u001b[0m     \u001b[38;5;28;01mif\u001b[39;00m \u001b[38;5;129;01mnot\u001b[39;00m \u001b[38;5;28misinstance\u001b[39m(value, Geometry):\n\u001b[0;32m-> 1106\u001b[0m         \u001b[38;5;28;01mraise\u001b[39;00m \u001b[38;5;167;01mTypeError\u001b[39;00m(\u001b[38;5;124m'\u001b[39m\u001b[38;5;124mMust set geometry with Geometry object\u001b[39m\u001b[38;5;124m'\u001b[39m)\n\u001b[1;32m   1107\u001b[0m     \u001b[38;5;28mself\u001b[39m\u001b[38;5;241m.\u001b[39m_geometry \u001b[38;5;241m=\u001b[39m value\n",
      "\u001b[0;31mTypeError\u001b[0m: Must set geometry with Geometry object"
     ]
    }
   ],
   "source": [
    "from typing import Tuple\n",
    "\n",
    "\n",
    "def create_chassis(length_width_height_m: Tuple[float, float, float] = (0.5, 0.5, 0.5)) -> Link:\n",
    "    geo = Box(length_width_height_m)\n",
    "    return Link(\n",
    "        visuals=[Visual(geo, Material('chassis_color'))],\n",
    "        collisions=[Collision(geo)],\n",
    "        inertial=Inertial(1.0, geo),\n",
    "        name='chassis'\n",
    "    )\n",
    "\n",
    "    \n",
    "\n",
    "\n",
    "def create_wheel(\n",
    "    radius_m: float = 0.1,\n",
    "    thickness_m: float = 0.1\n",
    ") -> Cylinder:\n",
    "    return Cylinder(radius_m, thickness_m)\n",
    "\n",
    "chassis = create_chassis()\n",
    "\n",
    "\n",
    "chassis_to_left_front_wheel = Joint('chassis_to_left_front_wheel', 'fixed')\n",
    "left_front_wheel = create_wheel()\n",
    "\n",
    "\n",
    "right_front_wheel = create_wheel()\n",
    "left_rear_wheel = create_wheel()\n",
    "right_rear_wheel = create_wheel()\n",
    "\n",
    "\n",
    "\n"
   ]
  },
  {
   "cell_type": "code",
   "execution_count": null,
   "metadata": {},
   "outputs": [],
   "source": []
  }
 ],
 "metadata": {
  "kernelspec": {
   "display_name": ".venv",
   "language": "python",
   "name": "python3"
  },
  "language_info": {
   "codemirror_mode": {
    "name": "ipython",
    "version": 3
   },
   "file_extension": ".py",
   "mimetype": "text/x-python",
   "name": "python",
   "nbconvert_exporter": "python",
   "pygments_lexer": "ipython3",
   "version": "3.8.10"
  }
 },
 "nbformat": 4,
 "nbformat_minor": 2
}
